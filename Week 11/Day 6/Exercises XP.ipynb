{
  "nbformat": 4,
  "nbformat_minor": 0,
  "metadata": {
    "colab": {
      "provenance": []
    },
    "kernelspec": {
      "name": "python3",
      "display_name": "Python 3"
    },
    "language_info": {
      "name": "python"
    }
  },
  "cells": [
    {
      "cell_type": "markdown",
      "source": [
        "**🌟 Exercise 1 : Linear Regression Analysis**\n",
        "\n",
        "**Instructions**\n",
        "\n",
        "**Objective:** Apply linear regression to a dataset and interpret the results.\n",
        "\n",
        "**Task:** Given a dataset of housing prices (house_prices) and their corresponding sizes (house_sizes), use linear regression to predict the price of a house given its size.\n",
        "\n",
        "**Dataset:**\n",
        "\n",
        "house_sizes: [50, 70, 80, 100, 120] (in square meters)\n",
        "house_prices: [150,000, 200,000, 210,000, 250,000, 280,000] (in currency units)\n",
        "\n",
        "**Questions:**\n",
        "\n",
        "What is the slope and intercept of the regression line?\n",
        "\n",
        "Predict the price of a house that is 90 square meters.\n",
        "\n",
        "Interpret the meaning of the slope in the context of housing prices."
      ],
      "metadata": {
        "id": "p5ueR-dat6YE"
      }
    },
    {
      "cell_type": "code",
      "execution_count": 12,
      "metadata": {
        "id": "vxNKyLAHtqb-"
      },
      "outputs": [],
      "source": [
        "# Importing Required Libraries\n",
        "import numpy as np\n",
        "from sklearn.linear_model import LinearRegression\n",
        "from scipy.stats import f_oneway\n",
        "from scipy.stats import binom\n",
        "import pandas as pd\n",
        "from scipy.stats import pearsonr, spearmanr\n",
        "import matplotlib.pyplot as plt"
      ]
    },
    {
      "cell_type": "code",
      "source": [
        "# Data\n",
        "house_sizes = np.array([50, 70, 80, 100, 120]).reshape(-1, 1)\n",
        "house_prices = np.array([150000, 200000, 210000, 250000, 280000])\n",
        "\n",
        "# Model\n",
        "model = LinearRegression()\n",
        "model.fit(house_sizes, house_prices)\n",
        "\n",
        "# Slope and intercept\n",
        "slope = model.coef_[0]\n",
        "intercept = model.intercept_\n",
        "\n",
        "# Predict price for 90 sqm\n",
        "predicted_price = model.predict(np.array([[90]]))\n",
        "\n",
        "print(f'Slope: {slope}')\n",
        "print(f'Intercept: {intercept}')\n",
        "print(f'Predicted price for 90 sqm: {predicted_price[0]}')"
      ],
      "metadata": {
        "colab": {
          "base_uri": "https://localhost:8080/"
        },
        "id": "0EgGNxnM3MyJ",
        "outputId": "009f1d3a-047a-4427-a7f0-66ab34e51e8c"
      },
      "execution_count": 5,
      "outputs": [
        {
          "output_type": "stream",
          "name": "stdout",
          "text": [
            "Slope: 1828.7671232876708\n",
            "Intercept: 64383.56164383565\n",
            "Predicted price for 90 sqm: 228972.60273972602\n"
          ]
        }
      ]
    },
    {
      "cell_type": "markdown",
      "source": [
        "**Interpretation**\n",
        "\n",
        "Slope (1828.76): For every additional square meter, the price increases by 1828.76 currency units.\n",
        "\n",
        "Intercept (64383.56): Represents the predicted price of a house with size 0 sqm (not meaningful in practice, just a regression constant).\n",
        "\n",
        "Prediction: A 90 sqm house is expected to cost 228972.60 currency units."
      ],
      "metadata": {
        "id": "0ndQx2PVOala"
      }
    },
    {
      "cell_type": "markdown",
      "source": [
        "**🌟 Exercise 2 : Understanding ANOVA**\n",
        "\n",
        "**Instructions**\n",
        "\n",
        "**Objective:** Test understanding of ANOVA and its application.\n",
        "\n",
        "**Task: **Three different fertilizers are applied to three separate groups of plants to test their effectiveness. The growth in centimeters is recorded.\n",
        "\n",
        "**Dataset:**\n",
        "\n",
        "fertilizer_1: [5, 6, 7, 6, 5]\n",
        "fertilizer_2: [7, 8, 7, 9, 8]\n",
        "fertilizer_3: [4, 5, 4, 3, 4]\n",
        "\n",
        "**Questions:**\n",
        "\n",
        "Perform an ANOVA test on the given data. What are the F-value and P-value?\n",
        "\n",
        "Based on the P-value, do the fertilizers have significantly different effects on plant growth?\n",
        "\n",
        "Explain what would happen if the P-value were greater than 0.05."
      ],
      "metadata": {
        "id": "5iERLwiaPNu9"
      }
    },
    {
      "cell_type": "code",
      "source": [
        "from scipy.stats import f_oneway\n",
        "\n",
        "fertilizer_1 = [5, 6, 7, 6, 5]\n",
        "fertilizer_2 = [7, 8, 7, 9, 8]\n",
        "fertilizer_3 = [4, 5, 4, 3, 4]\n",
        "\n",
        "f_stat, p_value = f_oneway(fertilizer_1, fertilizer_2, fertilizer_3)\n",
        "\n",
        "print(f\"F-value: {f_stat}\")\n",
        "print(f\"P-value: {p_value}\")"
      ],
      "metadata": {
        "colab": {
          "base_uri": "https://localhost:8080/"
        },
        "id": "oCjBHbgUOZcL",
        "outputId": "f1d87d91-863e-462b-fd17-dae7426407f5"
      },
      "execution_count": 7,
      "outputs": [
        {
          "output_type": "stream",
          "name": "stdout",
          "text": [
            "F-value: 28.52631578947368\n",
            "P-value: 2.754267209804844e-05\n"
          ]
        }
      ]
    },
    {
      "cell_type": "markdown",
      "source": [
        "**Interpretation:**\n",
        "\n",
        "F-value (28.5): Shows strong variation among group means.\n",
        "\n",
        "P-value (2.75 × 10⁻⁵): Much less than 0.05. we reject the null hypothesis.\n",
        "\n",
        "The fertilizers do have significantly different effects on plant growth.\n",
        "\n",
        "If P > 0.05: We would fail to reject the null hypothesis, suggesting no statistically significant difference in growth due to fertilizer type."
      ],
      "metadata": {
        "id": "1miErwpjTwSq"
      }
    },
    {
      "cell_type": "markdown",
      "source": [
        "**🌟 Exercise 3 : Probability Distributions**\n",
        "\n",
        "**Instructions**\n",
        "\n",
        "Work with a binomial distribution: calculate probabilities for different numbers of successes.\n",
        "\n",
        "Example: Calculating the probability of getting exactly 5 heads in 10 coin flips."
      ],
      "metadata": {
        "id": "kqRrv1DgUZNr"
      }
    },
    {
      "cell_type": "code",
      "source": [
        "# Parameters\n",
        "n = 10 # no. of trials\n",
        "p = 0.5 # probability of success\n",
        "\n",
        "# Probability of exactly 5 heads\n",
        "prob_5_heads = binom.pmf(5, n, p)\n",
        "\n",
        "prob_5_heads"
      ],
      "metadata": {
        "colab": {
          "base_uri": "https://localhost:8080/"
        },
        "id": "TL5MCb1-Vkur",
        "outputId": "71e0b816-015c-475b-bafd-8e07e1d9884f"
      },
      "execution_count": 9,
      "outputs": [
        {
          "output_type": "execute_result",
          "data": {
            "text/plain": [
              "np.float64(0.24609375000000003)"
            ]
          },
          "metadata": {},
          "execution_count": 9
        }
      ]
    },
    {
      "cell_type": "markdown",
      "source": [
        "**🌟 Exercise 4 : Correlation Coefficients**\n",
        "\n",
        "**Instructions**\n",
        "\n",
        "Calculate the Pearson and Spearman correlation coefficients between two variables in a dataset.\n",
        "\n",
        "Example in code: data = pd.DataFrame({'age': [23, 25, 30, 35, 40], 'income': [35000, 40000, 50000, 60000, 70000]})"
      ],
      "metadata": {
        "id": "c5r2jlbAWMId"
      }
    },
    {
      "cell_type": "code",
      "source": [
        "# Data\n",
        "data = pd.DataFrame({\n",
        "    'age': [23, 25, 30, 35, 40],\n",
        "    'income': [35000, 40000, 50000, 60000, 70000]\n",
        "})\n",
        "\n",
        "# Pearson & Spearman\n",
        "pearson_corr, _ = pearsonr(data['age'], data['income'])\n",
        "spearman_corr, _ = spearmanr(data['age'], data['income'])\n",
        "\n",
        "print(f\"Pearson correlation: {pearson_corr}\")\n",
        "print(f\"Spearman correlation: {spearman_corr}\")"
      ],
      "metadata": {
        "colab": {
          "base_uri": "https://localhost:8080/"
        },
        "id": "XQ42yn7HW4R-",
        "outputId": "bc034d49-4d8c-4e71-931e-4d65fbf2c1d2"
      },
      "execution_count": 11,
      "outputs": [
        {
          "output_type": "stream",
          "name": "stdout",
          "text": [
            "Pearson correlation: 0.9996907452347201\n",
            "Spearman correlation: 0.9999999999999999\n"
          ]
        }
      ]
    },
    {
      "cell_type": "markdown",
      "source": [
        "**🌟 Exercise 5 : Linear Relationships**\n",
        "\n",
        "**Instructions**\n",
        "\n",
        "Create a scatter plot of two variables (age and income) and visually assess the linear relationship. Use the dataset from Exercise 7."
      ],
      "metadata": {
        "id": "53Q5pMyOXBO2"
      }
    },
    {
      "cell_type": "code",
      "source": [
        "# Using same dataset as Exercise 4\n",
        "plt.scatter(data['age'], data['income'], color='blue')\n",
        "plt.title(\"Age vs Income\")\n",
        "plt.xlabel(\"Age\")\n",
        "plt.ylabel(\"Income\")\n",
        "plt.grid(True)\n",
        "plt.show()"
      ],
      "metadata": {
        "colab": {
          "base_uri": "https://localhost:8080/",
          "height": 472
        },
        "id": "CAIoI5bLXTv6",
        "outputId": "72c06904-63f8-4c27-ce83-40f4acc99790"
      },
      "execution_count": 13,
      "outputs": [
        {
          "output_type": "display_data",
          "data": {
            "text/plain": [
              "<Figure size 640x480 with 1 Axes>"
            ],
            "image/png": "[encoded data removed]"
          },
          "metadata": {}
        }
      ]
    }
  ]
}