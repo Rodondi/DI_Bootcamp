{
  "nbformat": 4,
  "nbformat_minor": 0,
  "metadata": {
    "colab": {
      "provenance": []
    },
    "kernelspec": {
      "name": "python3",
      "display_name": "Python 3"
    },
    "language_info": {
      "name": "python"
    }
  },
  "cells": [
    {
      "cell_type": "markdown",
      "source": [
        "**🌟 Exercise 1 : Matrix Operations**\n",
        "\n",
        "**Instructions**\n",
        "In this exercise, you’ll work with a 3x3 matrix. Here’s a brief explanation of the concepts:\n",
        "\n",
        "**Determinant:** The determinant is a value that can be computed from the elements of a square matrix. It provides important information about the matrix, such as whether it has an inverse, and is used in various areas like linear algebra and calculus. To understand more about it you can watch this video.\n",
        "**Inverse of a Matrix:** The inverse of a matrix is a matrix that, when multiplied with the original matrix, results in an identity matrix. Not all matrices have inverses. The inverse is crucial in solving systems of linear equations.\n",
        "\n",
        "Create a 3x3 matrix and perform the following operations:\n",
        "\n",
        "Calculate the determinant.\n",
        "\n",
        "Find the inverse of the matrix."
      ],
      "metadata": {
        "id": "tZG28AqjeTtZ"
      }
    },
    {
      "cell_type": "code",
      "source": [
        "import numpy as np\n",
        "import pandas as pd\n",
        "import matplotlib.pyplot as plt\n",
        "from scipy import stats"
      ],
      "metadata": {
        "id": "rKsIFNoMswGn"
      },
      "execution_count": 3,
      "outputs": []
    },
    {
      "cell_type": "code",
      "execution_count": 4,
      "metadata": {
        "id": "53fHuxW0nNFc",
        "colab": {
          "base_uri": "https://localhost:8080/"
        },
        "outputId": "f4f7817e-d0e2-4e58-bbac-49953f49c8a2"
      },
      "outputs": [
        {
          "output_type": "stream",
          "name": "stdout",
          "text": [
            "Matrix A\n",
            "[[ 2  4  1]\n",
            " [ 0  3 -1]\n",
            " [ 5  2  0]]\n",
            "\n",
            "Determinant of A: -31.0\n",
            "\n",
            "Inverse of A:\n",
            "[[-0.06451613 -0.06451613  0.22580645]\n",
            " [ 0.16129032  0.16129032 -0.06451613]\n",
            " [ 0.48387097 -0.51612903 -0.19354839]]\n"
          ]
        }
      ],
      "source": [
        "# Create a 3*3 matrix\n",
        "A = np.array([[2, 4, 1],\n",
        "             [0, 3, -1],\n",
        "             [5, 2, 0]])\n",
        "\n",
        "print(\"Matrix A\")\n",
        "print(A)\n",
        "\n",
        "# Calculate the determinant\n",
        "det_A = np.linalg.det(A)\n",
        "print(\"\\nDeterminant of A:\", det_A)\n",
        "\n",
        "# Check if the matrix is invertible\n",
        "if det_A !=0:\n",
        "  # Find the inverse\n",
        "  inv_A = np.linalg.inv(A)\n",
        "  print(\"\\nInverse of A:\")\n",
        "  print(inv_A)\n",
        "else:\n",
        "  print(\"\\nmatrix A is not invertible (determinant is zero).\")"
      ]
    },
    {
      "cell_type": "markdown",
      "source": [
        "**🌟 Exercise 2 : Statistical Analysis**\n",
        "\n",
        "**Instructions**\n",
        "\n",
        "In this exercise, you’ll calculate statistical measures for a dataset:\n",
        "\n",
        "**Mean:** The average value of a dataset.\n",
        "\n",
        "**Median:** The middle value in a dataset when it is arranged in ascending or descending order.\n",
        "\n",
        "**Standard Deviation:** A measure of the amount of variation or dispersion in a set of values.\n",
        "\n",
        "Using NumPy, generate an array of 50 random numbers and compute:\n",
        "\n",
        "The mean and median.\n",
        "The standard deviation."
      ],
      "metadata": {
        "id": "mWzdX44Qg-yd"
      }
    },
    {
      "cell_type": "code",
      "source": [
        "# Generate an array of 50 random numbers\n",
        "B = np.random.rand(50)\n",
        "print(B)\n",
        "\n",
        "# Calculate the mean\n",
        "mean_val = np.mean(B)\n",
        "print(\"\\nMean:\", mean_val)\n",
        "\n",
        "# Calculate the Median\n",
        "median_val = np.median(B)\n",
        "print(\"Median:\", median_val)\n",
        "\n",
        "# Calculate the standard deviation\n",
        "std_dev = np.std(B)\n",
        "print(\"Standard Deviation:\", std_dev)"
      ],
      "metadata": {
        "colab": {
          "base_uri": "https://localhost:8080/"
        },
        "id": "KOGBs87ojhma",
        "outputId": "122f9e49-a571-4d14-ede2-a578ed000f39"
      },
      "execution_count": 11,
      "outputs": [
        {
          "output_type": "stream",
          "name": "stdout",
          "text": [
            "[0.77924323 0.11460967 0.07026075 0.56157482 0.3577359  0.10678529\n",
            " 0.94776917 0.50938803 0.10655476 0.77128985 0.69379221 0.2061404\n",
            " 0.3123583  0.71162319 0.89475037 0.19355562 0.03731602 0.8310231\n",
            " 0.40556755 0.9207411  0.89883646 0.47672349 0.33401387 0.13964119\n",
            " 0.19164265 0.50986116 0.24362504 0.96223156 0.99577525 0.43912384\n",
            " 0.78443566 0.81887353 0.43735528 0.68597503 0.01139189 0.45733448\n",
            " 0.4649869  0.88904816 0.08275732 0.63221965 0.73956586 0.86631312\n",
            " 0.22581918 0.91569393 0.37655188 0.12107949 0.36008404 0.04071669\n",
            " 0.12871176 0.09364119]\n",
            "\n",
            "Mean: 0.47712217711157145\n",
            "Median: 0.4482291599123535\n",
            "Standard Deviation: 0.31095483713366345\n"
          ]
        }
      ]
    },
    {
      "cell_type": "markdown",
      "source": [
        "**🌟 Exercise 3 : Date Manipulation**\n",
        "\n",
        "**Instructions**\n",
        "\n",
        "Create a NumPy array of dates for the month of January 2023. Convert these dates to another format (e.g., YYYY/MM/DD)."
      ],
      "metadata": {
        "id": "DCLW_Bv6lQGx"
      }
    },
    {
      "cell_type": "code",
      "source": [
        "# Step 1: Create an array of dates for January 2023\n",
        "dates = np.arange('2023-01-01', '2023-02-01', dtype='datetime64[D]')\n",
        "\n",
        "print(\"Original Dates:\")\n",
        "print(dates)\n",
        "\n",
        "# Step 2: Convert the dates to the format YYYY/MM/DD\n",
        "formatted_dates = np.array([str(date).replace('-', '/') for date in dates])\n",
        "\n",
        "print(\"\\nFormatted Dates (YYYY/MM/DD):\")\n",
        "print(formatted_dates)"
      ],
      "metadata": {
        "colab": {
          "base_uri": "https://localhost:8080/"
        },
        "id": "wpA3S-2Cld8v",
        "outputId": "9e87fdac-db95-4d94-8488-421feaf1bc60"
      },
      "execution_count": 15,
      "outputs": [
        {
          "output_type": "stream",
          "name": "stdout",
          "text": [
            "Original Dates:\n",
            "['2023-01-01' '2023-01-02' '2023-01-03' '2023-01-04' '2023-01-05'\n",
            " '2023-01-06' '2023-01-07' '2023-01-08' '2023-01-09' '2023-01-10'\n",
            " '2023-01-11' '2023-01-12' '2023-01-13' '2023-01-14' '2023-01-15'\n",
            " '2023-01-16' '2023-01-17' '2023-01-18' '2023-01-19' '2023-01-20'\n",
            " '2023-01-21' '2023-01-22' '2023-01-23' '2023-01-24' '2023-01-25'\n",
            " '2023-01-26' '2023-01-27' '2023-01-28' '2023-01-29' '2023-01-30'\n",
            " '2023-01-31']\n",
            "\n",
            "Formatted Dates (YYYY/MM/DD):\n",
            "['2023/01/01' '2023/01/02' '2023/01/03' '2023/01/04' '2023/01/05'\n",
            " '2023/01/06' '2023/01/07' '2023/01/08' '2023/01/09' '2023/01/10'\n",
            " '2023/01/11' '2023/01/12' '2023/01/13' '2023/01/14' '2023/01/15'\n",
            " '2023/01/16' '2023/01/17' '2023/01/18' '2023/01/19' '2023/01/20'\n",
            " '2023/01/21' '2023/01/22' '2023/01/23' '2023/01/24' '2023/01/25'\n",
            " '2023/01/26' '2023/01/27' '2023/01/28' '2023/01/29' '2023/01/30'\n",
            " '2023/01/31']\n"
          ]
        }
      ]
    },
    {
      "cell_type": "markdown",
      "source": [
        "**🌟 Exercise 4 : Data Manipulation with NumPy and Pandas**\n",
        "\n",
        "**Instructions**\n",
        "\n",
        "Create a DataFrame with random numbers and perform:\n",
        "\n",
        "Conditional selection of data.\n",
        "\n",
        "Aggregation functions like sum and average."
      ],
      "metadata": {
        "id": "OSCJtwiZo5PO"
      }
    },
    {
      "cell_type": "code",
      "source": [
        "# Create a Dataframe with random numbers\n",
        "np.random.seed(42)\n",
        "data = np.random.randint(10, 100, size=(6, 4))\n",
        "\n",
        "# Create a Dataframe with column names\n",
        "df = pd.DataFrame(data, columns=['A', 'B', 'C', 'D'])\n",
        "print(\"Original DataFrame:\")\n",
        "print(df)\n",
        "\n",
        "# Conditional Selection( values in column A > 50)\n",
        "condition = df[df['A'] > 50]\n",
        "print(\"\\nRows where column 'A' > 50:\")\n",
        "print(condition)\n",
        "\n",
        "# Calculating sum and average\n",
        "sum_values = df.sum()\n",
        "mean_values = df.mean()\n",
        "\n",
        "\n",
        "print(\"\\nSum of values in each column:\")\n",
        "print(sum_values)\n",
        "\n",
        "print(\"\\nAverage of values in each column:\")\n",
        "print(mean_values)"
      ],
      "metadata": {
        "colab": {
          "base_uri": "https://localhost:8080/"
        },
        "id": "ppRMhV62pGvp",
        "outputId": "026300f0-b7ac-43e5-a0b0-d228d087f007"
      },
      "execution_count": 20,
      "outputs": [
        {
          "output_type": "stream",
          "name": "stdout",
          "text": [
            "Original DataFrame:\n",
            "    A   B   C   D\n",
            "0  61  24  81  70\n",
            "1  30  92  96  84\n",
            "2  84  97  33  12\n",
            "3  31  62  11  97\n",
            "4  39  47  11  73\n",
            "5  69  30  42  85\n",
            "\n",
            "Rows where column 'A' > 50:\n",
            "    A   B   C   D\n",
            "0  61  24  81  70\n",
            "2  84  97  33  12\n",
            "5  69  30  42  85\n",
            "\n",
            "Sum of values in each column:\n",
            "A    314\n",
            "B    352\n",
            "C    274\n",
            "D    421\n",
            "dtype: int64\n",
            "\n",
            "Average of values in each column:\n",
            "A    52.333333\n",
            "B    58.666667\n",
            "C    45.666667\n",
            "D    70.166667\n",
            "dtype: float64\n"
          ]
        }
      ]
    },
    {
      "cell_type": "markdown",
      "source": [
        "**🌟 Exercise 5 : Image Representation**\n",
        "\n",
        "**Instructions**\n",
        "\n",
        "Explain how images are represented in NumPy arrays and demonstrate with a simple example (e.g., creating a 5x5 grayscale image)."
      ],
      "metadata": {
        "id": "tVvHWKlevU46"
      }
    },
    {
      "cell_type": "markdown",
      "source": [
        "**Grayscale Image:**\n",
        "\n",
        "Represented as a 2D array.\n",
        "\n",
        "Each value is a pixel intensity from 0 (black) to 255 (white).\n",
        "\n",
        "**Color Image (RGB):**\n",
        "\n",
        "Represented as a 3D array: (height, width, 3)\n",
        "\n",
        "Each pixel contains 3 values (Red, Green, Blue)."
      ],
      "metadata": {
        "id": "ZCn3hey6it9X"
      }
    },
    {
      "cell_type": "code",
      "source": [
        "# Create a 5x5 array with grayscale values (0–255)\n",
        "grayscale_image = np.array([\n",
        "    [  0,  50, 100, 150, 200],\n",
        "    [ 10,  60, 110, 160, 210],\n",
        "    [ 20,  70, 120, 170, 220],\n",
        "    [ 30,  80, 130, 180, 230],\n",
        "    [ 40,  90, 140, 190, 240]\n",
        "], dtype=np.uint8)\n",
        "\n",
        "print(\"Grayscale Image Array:\")\n",
        "print(grayscale_image)\n",
        "\n",
        "# Display the image using matplotlib\n",
        "plt.imshow(grayscale_image, cmap='gray')\n",
        "plt.title(\"5x5 Grayscale Image\")\n",
        "plt.colorbar()\n",
        "plt.show()"
      ],
      "metadata": {
        "colab": {
          "base_uri": "https://localhost:8080/",
          "height": 556
        },
        "id": "one4uFyuvsP-",
        "outputId": "16c5cd24-cc4c-45ec-9931-61f43c75059f"
      },
      "execution_count": 2,
      "outputs": [
        {
          "output_type": "stream",
          "name": "stdout",
          "text": [
            "Grayscale Image Array:\n",
            "[[  0  50 100 150 200]\n",
            " [ 10  60 110 160 210]\n",
            " [ 20  70 120 170 220]\n",
            " [ 30  80 130 180 230]\n",
            " [ 40  90 140 190 240]]\n"
          ]
        },
        {
          "output_type": "display_data",
          "data": {
            "text/plain": [
              "<Figure size 640x480 with 2 Axes>"
            ],
            "image/png": "[encoded data removed]"
          },
          "metadata": {}
        }
      ]
    },
    {
      "cell_type": "markdown",
      "source": [
        "**🌟 Exercise 6 : Basic Hypothesis Testing**\n",
        "\n",
        "**Instructions**\n",
        "\n",
        "Create a sample dataset to test the effectiveness of a new training program on employee productivity:"
      ],
      "metadata": {
        "id": "9Ak2RvcujgYm"
      }
    },
    {
      "cell_type": "markdown",
      "source": [
        "**Null Hypothesis (H₀)**: The training program has no effect on productivity.\n",
        "\n",
        "**Alternative Hypothesis (H₁):** The training program improves productivity."
      ],
      "metadata": {
        "id": "UVEexEwmkFwq"
      }
    },
    {
      "cell_type": "code",
      "source": [
        "# Productivity scores\n",
        "np.random.seed(42)\n",
        "productivity_before = np.random.normal(loc=50, scale=10, size=30)\n",
        "productivity_after = productivity_before + np.random.normal(loc=5, scale=3, size=30)\n",
        "\n",
        "# Paired t-test\n",
        "t_stat, p_value = stats.ttest_rel(productivity_after, productivity_before)\n",
        "\n",
        "print(\"T-statistic:\", t_stat)\n",
        "print(\"P-value:\", p_value)\n",
        "\n",
        "if p_value < 0.05:\n",
        "    print(\"Result: Reject the null hypothesis. The training program is effective.\")\n",
        "else:\n",
        "    print(\"Result: Fail to reject the null hypothesis. No significant effect.\")\n"
      ],
      "metadata": {
        "colab": {
          "base_uri": "https://localhost:8080/"
        },
        "id": "IQe2eS6ckQEc",
        "outputId": "c544c95c-2de1-486d-f329-9ef0d1794446"
      },
      "execution_count": 4,
      "outputs": [
        {
          "output_type": "stream",
          "name": "stdout",
          "text": [
            "T-statistic: 9.091456480816795\n",
            "P-value: 5.471059881900939e-10\n",
            "Result: Reject the null hypothesis. The training program is effective.\n"
          ]
        }
      ]
    },
    {
      "cell_type": "markdown",
      "source": [
        "**🌟 Exercise 7 : Complex Array Comparison**\n",
        "\n",
        "**Instructions**\n",
        "\n",
        "Create two arrays and perform element-wise comparison to find which elements are greater in the first array.\n",
        "\n",
        "The expected output is a boolean array showing which elements in the first array are greater than the corresponding elements in the second array."
      ],
      "metadata": {
        "id": "rBbV4h_DkYT3"
      }
    },
    {
      "cell_type": "code",
      "source": [
        "# Create two arrays\n",
        "array1 = np.array([10, 20, 30, 40, 50])\n",
        "array2 = np.array([15, 18, 30, 35, 60])\n",
        "\n",
        "# Element-wise comparison\n",
        "comparison_result = array1 > array2\n",
        "\n",
        "print(\"Array 1:\", array1)\n",
        "print(\"Array 2:\", array2)\n",
        "print(\"Array 1 > Array 2:\", comparison_result)"
      ],
      "metadata": {
        "colab": {
          "base_uri": "https://localhost:8080/"
        },
        "id": "Dywx7Prmkhk5",
        "outputId": "4b405d47-c22e-4a73-beae-70eb6c2a3aa8"
      },
      "execution_count": 5,
      "outputs": [
        {
          "output_type": "stream",
          "name": "stdout",
          "text": [
            "Array 1: [10 20 30 40 50]\n",
            "Array 2: [15 18 30 35 60]\n",
            "Array 1 > Array 2: [False  True False  True False]\n"
          ]
        }
      ]
    },
    {
      "cell_type": "markdown",
      "source": [
        "**🌟 Exercise 8 : Time Series Data Manipulation**\n",
        "\n",
        "Instructions\n",
        "\n",
        "Generate time series data for the year 2023. Demonstrate slicing for the following intervals:\n",
        "\n",
        "January to March\n",
        "\n",
        "April to June\n",
        "\n",
        "July to September\n",
        "\n",
        "October to December\n",
        "\n",
        "Generate a time series data for a specific period and demonstrate how to slice this data for different intervals."
      ],
      "metadata": {
        "id": "uIoU312RkmIA"
      }
    },
    {
      "cell_type": "code",
      "source": [
        "# Generate daily time series data for 2023\n",
        "dates = pd.date_range(start='2023-01-01', end='2023-12-31', freq='D')\n",
        "values = np.random.rand(len(dates)) * 100\n",
        "ts = pd.Series(values, index=dates)\n",
        "\n",
        "# Slice the data\n",
        "q1 = ts['2023-01':'2023-03']\n",
        "q2 = ts['2023-04':'2023-06']\n",
        "q3 = ts['2023-07':'2023-09']\n",
        "q4 = ts['2023-10':'2023-12']\n",
        "\n",
        "print(\"Q1 sample:\\n\", q1.head())\n",
        "print(\"\\nQ2 sample:\\n\", q2.head())"
      ],
      "metadata": {
        "colab": {
          "base_uri": "https://localhost:8080/"
        },
        "id": "ZlEufTO0kwyy",
        "outputId": "3b01216f-039c-44bd-bb14-af1048f900c9"
      },
      "execution_count": 6,
      "outputs": [
        {
          "output_type": "stream",
          "name": "stdout",
          "text": [
            "Q1 sample:\n",
            " 2023-01-01    33.089802\n",
            "2023-01-02     6.355835\n",
            "2023-01-03    31.098232\n",
            "2023-01-04    32.518332\n",
            "2023-01-05    72.960618\n",
            "Freq: D, dtype: float64\n",
            "\n",
            "Q2 sample:\n",
            " 2023-04-01    51.209306\n",
            "2023-04-02    22.649578\n",
            "2023-04-03    64.517279\n",
            "2023-04-04    17.436643\n",
            "2023-04-05    69.093774\n",
            "Freq: D, dtype: float64\n"
          ]
        }
      ]
    },
    {
      "cell_type": "markdown",
      "source": [
        "**🌟 Exercise 9 : Data Conversion**\n",
        "\n",
        "**Instructions**\n",
        "\n",
        "Demonstrate how to convert a NumPy array to a Pandas DataFrame and vice versa."
      ],
      "metadata": {
        "id": "8SHyTcZNk81B"
      }
    },
    {
      "cell_type": "code",
      "source": [
        "# NumPy array to DataFrame\n",
        "array = np.random.rand(4, 3)\n",
        "df = pd.DataFrame(array, columns=['A', 'B', 'C'])\n",
        "print(\"DataFrame from NumPy array:\\n\", df)\n",
        "\n",
        "# DataFrame to NumPy array\n",
        "converted_array = df.values\n",
        "print(\"\\nConverted back to NumPy array:\\n\", converted_array)"
      ],
      "metadata": {
        "colab": {
          "base_uri": "https://localhost:8080/"
        },
        "id": "JaW_yicylEAP",
        "outputId": "9e3075b7-bf52-48df-9738-865b4fd17de8"
      },
      "execution_count": 7,
      "outputs": [
        {
          "output_type": "stream",
          "name": "stdout",
          "text": [
            "DataFrame from NumPy array:\n",
            "           A         B         C\n",
            "0  0.753378  0.376260  0.083501\n",
            "1  0.777147  0.558404  0.424222\n",
            "2  0.906354  0.111197  0.492625\n",
            "3  0.011354  0.468661  0.056303\n",
            "\n",
            "Converted back to NumPy array:\n",
            " [[0.75337819 0.37625959 0.08350072]\n",
            " [0.77714692 0.55840425 0.42422201]\n",
            " [0.90635439 0.11119748 0.4926251 ]\n",
            " [0.01135364 0.46866064 0.05630328]]\n"
          ]
        }
      ]
    },
    {
      "cell_type": "markdown",
      "source": [
        "**🌟 Exercise 10 : Basic Visualization**\n",
        "\n",
        "**Instructions**\n",
        "\n",
        "Use Matplotlib to visualize a simple dataset created with NumPy (e.g., a line graph of random numbers)."
      ],
      "metadata": {
        "id": "2XoLlMS8lI-c"
      }
    },
    {
      "cell_type": "code",
      "source": [
        "# Create data\n",
        "x = np.arange(1, 11)\n",
        "y = np.random.randint(10, 100, size=10)\n",
        "\n",
        "# Plot\n",
        "plt.plot(x, y, marker='o', linestyle='-', color='b')\n",
        "plt.title(\"Random Line Plot\")\n",
        "plt.xlabel(\"Index\")\n",
        "plt.ylabel(\"Value\")\n",
        "plt.grid(True)\n",
        "plt.show()"
      ],
      "metadata": {
        "colab": {
          "base_uri": "https://localhost:8080/",
          "height": 472
        },
        "id": "sw2xLf3VlS5G",
        "outputId": "3ad8d5a8-3ad3-4815-e2ff-3a2f09bb358d"
      },
      "execution_count": 8,
      "outputs": [
        {
          "output_type": "display_data",
          "data": {
            "text/plain": [
              "<Figure size 640x480 with 1 Axes>"
            ],
            "image/png": "[encoded data removed]"
          },
          "metadata": {}
        }
      ]
    }
  ]
}