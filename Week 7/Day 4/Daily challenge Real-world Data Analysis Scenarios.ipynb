{
  "nbformat": 4,
  "nbformat_minor": 0,
  "metadata": {
    "colab": {
      "provenance": []
    },
    "kernelspec": {
      "name": "python3",
      "display_name": "Python 3"
    },
    "language_info": {
      "name": "python"
    }
  },
  "cells": [
    {
      "cell_type": "markdown",
      "source": [
        "## Production of House of Cards by Netflix\n",
        "Netflix is a global streaming giant with over 230 million users.\n",
        "\n",
        "What makes them stand out is their deep use of data not just to recommend shows, but to actually decide which content to create.\n",
        "\n",
        "Instead of relying on traditional TV methods like test audiences or pilot episodes, Netflix lets data guide its creative strategy.\n",
        "\n",
        "Back in 2013, Netflix was about to take a big step into original content.\n",
        "\n",
        "They used data to analyze what their viewers loved.\n",
        "\n",
        "They found three key signals: people who watched movies with Kevin Spacey, enjoyed David Fincher’s directing style, and liked political thrillers tended to binge-watch those genres.\n",
        "\n",
        "This gave them the confidence to fully invest in “House of Cards” — without ever producing a test episode.\n",
        "\n",
        "# Data Used\n",
        "Viewing history — what users watched or skipped.\n",
        "\n",
        "Searches, scrolls, ratings.\n",
        "\n",
        "Metadata, like genre, actors, and directors.\n",
        "\n",
        "When people watched — weekdays or weekends.\n",
        "\n",
        "What devices they were using.\n",
        "\n",
        "All these created a detailed profile of viewer preferences.\n",
        "\n",
        "# Analytical Methods\n",
        "Descriptive analytics helped summarize what viewers were doing.\n",
        "\n",
        "Predictive models forecasted what kind of shows would succeed.\n",
        "\n",
        "Machine learning powered their recommendation engine.\n",
        "\n",
        "A/B testing helped them choose which trailer or thumbnail to show users.\n",
        "\n",
        "# Impact\n",
        "House of Cards became a global hit proving that data could reduce creative risk.\n",
        "\n",
        "It saved Netflix time and money by skipping the traditional “pilot” phase.\n",
        "\n",
        "It showed other media companies that data-driven creativity could actually work.\n",
        "\n",
        "# What is there was no Data?\n",
        "Netflix might have picked a random script or followed industry intuition.\n",
        "\n",
        "This would be a gamble that would have been a hit or miss.\n",
        "\n",
        "They could have missed the chance to reshape how TV content is made and consumed.\n",
        "\n",
        "# Conclusion\n",
        "Data analysis helped Netflix move from a content distributor to a content creator.\n",
        "\n",
        "It turned user behavior into business strategy.\n",
        "\n",
        "Data Analysis has set the tone for how digital companies use data today — not just in entertainment, but also in e-commerce, education, and healthcare."
      ],
      "metadata": {
        "id": "WBM7XtSRFDbO"
      }
    }
  ]
}