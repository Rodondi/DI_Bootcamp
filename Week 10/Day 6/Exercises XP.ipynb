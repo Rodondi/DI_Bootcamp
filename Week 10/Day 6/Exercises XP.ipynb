{
  "nbformat": 4,
  "nbformat_minor": 0,
  "metadata": {
    "colab": {
      "provenance": []
    },
    "kernelspec": {
      "name": "python3",
      "display_name": "Python 3"
    },
    "language_info": {
      "name": "python"
    }
  },
  "cells": [
    {
      "cell_type": "markdown",
      "source": [
        "**🌟 Exercise 1 : Array Creation and Manipulation**\n",
        "\n",
        "**Instructions**\n",
        "\n",
        "Create a 1D NumPy array containing numbers from 0 to 9.\n",
        "\n",
        "Expected Output:\n",
        "\n",
        "array([0, 1, 2, 3, 4, 5, 6, 7, 8, 9])"
      ],
      "metadata": {
        "id": "5iZ5_CkEZ4OF"
      }
    },
    {
      "cell_type": "code",
      "execution_count": 3,
      "metadata": {
        "id": "udtp3pH7Sxkz",
        "outputId": "5c8516ae-11cb-4941-efc2-ffa1cd70dad3",
        "colab": {
          "base_uri": "https://localhost:8080/"
        }
      },
      "outputs": [
        {
          "output_type": "execute_result",
          "data": {
            "text/plain": [
              "array([0, 1, 2, 3, 4, 5, 6, 7, 8, 9])"
            ]
          },
          "metadata": {},
          "execution_count": 3
        }
      ],
      "source": [
        "import numpy as np\n",
        "\n",
        "arr1 = np.arange(10)\n",
        "arr1"
      ]
    },
    {
      "cell_type": "markdown",
      "source": [
        "**🌟 Exercise 2 : Type Conversion and Array Operations**\n",
        "\n",
        "**Instructions**\n",
        "\n",
        "Convert a list [3.14, 2.17, 0, 1, 2] into a NumPy array and convert its data type to integer.\n",
        "\n",
        "Expected Output:\n",
        "\n",
        "array([3, 2, 0, 1, 2])"
      ],
      "metadata": {
        "id": "cLz4IEDtad6b"
      }
    },
    {
      "cell_type": "code",
      "source": [
        "list_data = [3.14, 2.17, 0, 1, 2]\n",
        "arr2 = np.array(list_data, dtype=int)\n",
        "arr2"
      ],
      "metadata": {
        "colab": {
          "base_uri": "https://localhost:8080/"
        },
        "id": "vEumguvdaddD",
        "outputId": "80ca7d6a-ccbc-4811-a6b3-18a7b0144da4"
      },
      "execution_count": 4,
      "outputs": [
        {
          "output_type": "execute_result",
          "data": {
            "text/plain": [
              "array([3, 2, 0, 1, 2])"
            ]
          },
          "metadata": {},
          "execution_count": 4
        }
      ]
    },
    {
      "cell_type": "markdown",
      "source": [
        "**🌟 Exercise 3 : Working with Multi-Dimensional Arrays**\n",
        "\n",
        "**Instructions**\n",
        "\n",
        "Create a 3x3 NumPy array with values ranging from 1 to 9.\n",
        "\n",
        "Expected Output:\n",
        "\n",
        "array([[1, 2, 3],\n",
        "       [4, 5, 6],\n",
        "       [7, 8, 9]])"
      ],
      "metadata": {
        "id": "aG28MrigbcU4"
      }
    },
    {
      "cell_type": "code",
      "source": [
        "arr3 = np.arange(1, 10).reshape(3, 3)\n",
        "arr3"
      ],
      "metadata": {
        "id": "Cd5_lisoS1Ig",
        "colab": {
          "base_uri": "https://localhost:8080/"
        },
        "outputId": "6c188e10-c1ef-4a70-f751-0edf9197b707"
      },
      "execution_count": 5,
      "outputs": [
        {
          "output_type": "execute_result",
          "data": {
            "text/plain": [
              "array([[1, 2, 3],\n",
              "       [4, 5, 6],\n",
              "       [7, 8, 9]])"
            ]
          },
          "metadata": {},
          "execution_count": 5
        }
      ]
    },
    {
      "cell_type": "markdown",
      "source": [
        "**🌟 Exercise 4 : Creating Multi-Dimensional Array with Random Numbers**\n",
        "\n",
        "**Instructions**\n",
        "\n",
        "Create a 2D NumPy array of shape (4, 5) filled with random numbers.\n",
        "\n",
        "Expected Output:\n",
        "\n",
        "array([[0.56, 0.85, 0.01, 0.42, 0.68],\n",
        "       [0.22, 0.37, 0.73, 0.93, 0.39],\n",
        "       [0.44, 0.03, 0.87, 0.02, 0.83],\n",
        "       [0.78, 0.87, 0.98, 0.80, 0.46]])"
      ],
      "metadata": {
        "id": "EzrZghBob8hh"
      }
    },
    {
      "cell_type": "code",
      "source": [
        "arr4 = np.random.rand(4, 5)\n",
        "arr4"
      ],
      "metadata": {
        "id": "B47qoDeHS3km",
        "colab": {
          "base_uri": "https://localhost:8080/"
        },
        "outputId": "90c4ec50-1258-4395-b739-8cbe497faf75"
      },
      "execution_count": 6,
      "outputs": [
        {
          "output_type": "execute_result",
          "data": {
            "text/plain": [
              "array([[0.22023834, 0.42949132, 0.84949938, 0.19244799, 0.24219291],\n",
              "       [0.56637134, 0.57049727, 0.41415272, 0.2816387 , 0.9036918 ],\n",
              "       [0.35803219, 0.7973546 , 0.99956791, 0.97311878, 0.24071406],\n",
              "       [0.52228167, 0.36534688, 0.4076275 , 0.87266452, 0.49190547]])"
            ]
          },
          "metadata": {},
          "execution_count": 6
        }
      ]
    },
    {
      "cell_type": "markdown",
      "source": [
        "**🌟 Exercise 5 : Indexing Arrays**\n",
        "\n",
        "**Instructions**\n",
        "\n",
        "Select the second row from a given 2D NumPy array.\n",
        "\n",
        "Expected Output:\n",
        "\n",
        "array = np.array([[21,22,23,22,22],[20, 21, 22, 23, 24],[21,22,23,22,22]])"
      ],
      "metadata": {
        "id": "5rUemPKgcaVs"
      }
    },
    {
      "cell_type": "code",
      "source": [
        "arr5 = np.array([[21, 22, 23, 22, 22], [20, 21, 22, 23, 24], [21, 22, 23, 22, 22]])\n",
        "arr5[1]"
      ],
      "metadata": {
        "id": "gyKcC73A3ETW",
        "colab": {
          "base_uri": "https://localhost:8080/"
        },
        "outputId": "51cc29f3-86bc-48dd-e86c-db16b846ef68"
      },
      "execution_count": 7,
      "outputs": [
        {
          "output_type": "execute_result",
          "data": {
            "text/plain": [
              "array([20, 21, 22, 23, 24])"
            ]
          },
          "metadata": {},
          "execution_count": 7
        }
      ]
    },
    {
      "cell_type": "markdown",
      "source": [
        "**🌟 Exercise 6 : Reversing elements**\n",
        "\n",
        "**Instructions**\n",
        "\n",
        "Reverse the order of elements in a given 1D NumPy array (first element becomes last).\n",
        "\n",
        "Expected Output:\n",
        "\n",
        "array([9, 8, 7, 6, 5, 4, 3, 2, 1, 0])"
      ],
      "metadata": {
        "id": "kgpFJNI-dLpY"
      }
    },
    {
      "cell_type": "code",
      "source": [
        "arr6 = np.arange(10)[::-1]\n",
        "arr6"
      ],
      "metadata": {
        "id": "CkXchNeF3Nty",
        "colab": {
          "base_uri": "https://localhost:8080/"
        },
        "outputId": "df0783d2-a3ba-46f2-ce71-eb9b678244e9"
      },
      "execution_count": 8,
      "outputs": [
        {
          "output_type": "execute_result",
          "data": {
            "text/plain": [
              "array([9, 8, 7, 6, 5, 4, 3, 2, 1, 0])"
            ]
          },
          "metadata": {},
          "execution_count": 8
        }
      ]
    },
    {
      "cell_type": "markdown",
      "source": [
        "**🌟 Exercise 7 : Identity Matrix**\n",
        "\n",
        "**Instructions**\n",
        "\n",
        "Create a 4x4 identity matrix using NumPy.\n",
        "\n",
        "Expected Output:\n",
        "\n",
        "array([[1., 0., 0., 0.],\n",
        "       [0., 1., 0., 0.],\n",
        "       [0., 0., 1., 0.],\n",
        "       [0., 0., 0., 1.]])"
      ],
      "metadata": {
        "id": "hmkitQ3idqIv"
      }
    },
    {
      "cell_type": "code",
      "source": [
        "arr7 = np.eye(4)\n",
        "arr7"
      ],
      "metadata": {
        "id": "Te5jUC1L3WyT",
        "colab": {
          "base_uri": "https://localhost:8080/"
        },
        "outputId": "bd0a59f8-5f1e-4460-b59d-7b9c37296df6"
      },
      "execution_count": 9,
      "outputs": [
        {
          "output_type": "execute_result",
          "data": {
            "text/plain": [
              "array([[1., 0., 0., 0.],\n",
              "       [0., 1., 0., 0.],\n",
              "       [0., 0., 1., 0.],\n",
              "       [0., 0., 0., 1.]])"
            ]
          },
          "metadata": {},
          "execution_count": 9
        }
      ]
    },
    {
      "cell_type": "markdown",
      "source": [
        "**🌟 Exercise 8 : Simple Aggregate Funcs**\n",
        "\n",
        "**Instructions**\n",
        "\n",
        "Find the sum and average of a given 1D array.\n",
        "\n",
        "Expected Output:\n",
        "\n",
        "Sum: 45, Average: 4.5"
      ],
      "metadata": {
        "id": "LKo5g9cceCZd"
      }
    },
    {
      "cell_type": "code",
      "source": [
        "arr8 = np.arange(10)\n",
        "sum_arr8 = np.sum(arr8)\n",
        "avg_arr8 = np.mean(arr8)\n",
        "\n",
        "print(f\"Sum: {sum_arr8}, Average: {avg_arr8}\")"
      ],
      "metadata": {
        "id": "7i9hz8D-3Z91",
        "colab": {
          "base_uri": "https://localhost:8080/"
        },
        "outputId": "6d751b05-5bfe-44de-8e1d-12b616eff1c4"
      },
      "execution_count": 11,
      "outputs": [
        {
          "output_type": "stream",
          "name": "stdout",
          "text": [
            "Sum: 45, Average: 4.5\n"
          ]
        }
      ]
    },
    {
      "cell_type": "markdown",
      "source": [
        "**🌟 Exercise 9 : Create Array and Change its Structure**\n",
        "\n",
        "**Instructions**\n",
        "\n",
        "Create a NumPy array with elements from 1 to 20; then reshape it into a 4x5 matrix.\n",
        "\n",
        "Expected Output:\n",
        "\n",
        "array([[ 1,  2,  3,  4,  5],\n",
        "       [ 6,  7,  8,  9, 10],\n",
        "       [11, 12, 13, 14, 15],\n",
        "       [16, 17, 18, 19, 20]])"
      ],
      "metadata": {
        "id": "0FNZMm6GfbiQ"
      }
    },
    {
      "cell_type": "code",
      "source": [
        "arr9 = np.arange(1, 21).reshape(4, 5)\n",
        "arr9"
      ],
      "metadata": {
        "id": "FOrLgUUb3kD4",
        "colab": {
          "base_uri": "https://localhost:8080/"
        },
        "outputId": "e94491d1-032f-4ff8-e46e-1d36ad586099"
      },
      "execution_count": 12,
      "outputs": [
        {
          "output_type": "execute_result",
          "data": {
            "text/plain": [
              "array([[ 1,  2,  3,  4,  5],\n",
              "       [ 6,  7,  8,  9, 10],\n",
              "       [11, 12, 13, 14, 15],\n",
              "       [16, 17, 18, 19, 20]])"
            ]
          },
          "metadata": {},
          "execution_count": 12
        }
      ]
    },
    {
      "cell_type": "markdown",
      "source": [
        "**🌟 Exercise 10 : Conditional Selection of Values**\n",
        "\n",
        "**Instructions**\n",
        "\n",
        "Extract all odd numbers from a given NumPy array.\n",
        "\n",
        "Expected Output:\n",
        "\n",
        "array([1, 3, 5, 7, 9])"
      ],
      "metadata": {
        "id": "R_qQArpLf9dG"
      }
    },
    {
      "cell_type": "code",
      "source": [
        "arr10 = np.arange(10)\n",
        "odd_numbers = arr10[arr10 % 2 ==1]\n",
        "odd_numbers"
      ],
      "metadata": {
        "id": "J4BLrm50CBX7",
        "colab": {
          "base_uri": "https://localhost:8080/"
        },
        "outputId": "deb6ee0c-7526-485f-b953-61c68ad2a509"
      },
      "execution_count": 13,
      "outputs": [
        {
          "output_type": "execute_result",
          "data": {
            "text/plain": [
              "array([1, 3, 5, 7, 9])"
            ]
          },
          "metadata": {},
          "execution_count": 13
        }
      ]
    }
  ]
}