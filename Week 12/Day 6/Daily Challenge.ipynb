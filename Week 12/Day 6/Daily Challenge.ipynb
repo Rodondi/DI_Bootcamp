{
  "nbformat": 4,
  "nbformat_minor": 0,
  "metadata": {
    "colab": {
      "provenance": []
    },
    "kernelspec": {
      "name": "python3",
      "display_name": "Python 3"
    },
    "language_info": {
      "name": "python"
    }
  },
  "cells": [
    {
      "cell_type": "markdown",
      "source": [
        "**Your Task**\n",
        "Using python only :\n",
        "\n",
        "1. Create an Excel workbook using openpyxl with a sheet named “Grades”.\n",
        "2. Populate the sheet with the following data structure:\n",
        "\n",
        "- Column A: Student Names (e.g., Joe, Bill, Tim, Sally, Jane)\n",
        "- Columns B, C, D, E: Subject Grades (math, science, english, gym)\n",
        "For example :\n",
        "\n",
        "data = {\n",
        "    \"Joe\": {\n",
        "        \"math\": 65,\n",
        "        \"science\": 78,\n",
        "        \"english\": 98,\n",
        "        \"gym\": 89\n",
        "    },\n",
        "    \"Bill\": {\n",
        "        \"math\": 55,\n",
        "        \"science\": 72,\n",
        "        \"english\": 87,\n",
        "        \"gym\": 95\n",
        "    },\n",
        "    \"Tim\": {\n",
        "        \"math\": 100,\n",
        "        \"science\": 45,\n",
        "        \"english\": 75,\n",
        "        \"gym\": 92\n",
        "    },\n",
        "    \"Sally\": {\n",
        "        \"math\": 30,\n",
        "        \"science\": 25,\n",
        "        \"english\": 45,\n",
        "        \"gym\": 100\n",
        "    },\n",
        "    \"Jane\": {\n",
        "        \"math\": 100,\n",
        "        \"science\": 100,\n",
        "        \"english\": 100,\n",
        "        \"gym\": 60\n",
        "    }\n",
        "}\n",
        "\n",
        "\n",
        "3. Add a row for each student’s grades.\n",
        "4. Add a formula in the last row of each subject column to calculate the average grade for that subject.\n",
        "5. Apply bold and colored formatting to the header row."
      ],
      "metadata": {
        "id": "T5pimY-K7Xyj"
      }
    },
    {
      "cell_type": "code",
      "execution_count": 1,
      "metadata": {
        "colab": {
          "base_uri": "https://localhost:8080/"
        },
        "id": "cz4akT4v7R8R",
        "outputId": "1edde366-b3b5-462d-9f06-d495e4093f21"
      },
      "outputs": [
        {
          "output_type": "stream",
          "name": "stdout",
          "text": [
            "Requirement already satisfied: openpyxl in /usr/local/lib/python3.11/dist-packages (3.1.5)\n",
            "Requirement already satisfied: et-xmlfile in /usr/local/lib/python3.11/dist-packages (from openpyxl) (2.0.0)\n"
          ]
        }
      ],
      "source": [
        "pip install openpyxl"
      ]
    },
    {
      "cell_type": "code",
      "source": [
        "from openpyxl import Workbook\n",
        "from openpyxl.styles import Font, PatternFill\n",
        "from openpyxl.utils import get_column_letter\n",
        "\n",
        "# sample data\n",
        "data = {\n",
        "    \"Joe\": {\"math\": 65, \"science\": 78, \"english\": 98, \"gym\": 89},\n",
        "    \"Bill\": {\"math\": 55, \"science\": 72, \"english\": 87, \"gym\": 95},\n",
        "    \"Tim\": {\"math\": 100, \"science\": 45, \"english\": 75, \"gym\": 92},\n",
        "    \"Sally\": {\"math\": 30, \"science\": 25, \"english\": 45, \"gym\": 100},\n",
        "    \"Jane\": {\"math\": 100, \"science\": 100, \"english\": 100, \"gym\": 60}\n",
        "}\n",
        "\n",
        "# Create workbook and worksheet\n",
        "wb = Workbook()\n",
        "ws = wb.active\n",
        "ws.title = \"Grades\"\n",
        "\n",
        "# Defining Header and formatting\n",
        "headers = [\"Name\", \"Math\", \"Science\", \"English\", \"Gym\"]\n",
        "header_font = Font(bold=True, color=\"FFFFFF\")\n",
        "header_fill = PatternFill(start_color=\"4F81BD\", end_color=\"4F81BD\", fill_type=\"solid\")\n",
        "\n",
        "for col_num, header in enumerate(headers, 1):\n",
        "  cell = ws.cell(row=1, column=col_num, value=header)\n",
        "  cell.font = header_font\n",
        "  cell.fill = header_fill\n",
        "\n",
        "# writing the student data\n",
        "for row_num, (student, subjects) in enumerate(data.items(), start=2):\n",
        "  ws.cell(row=row_num, column=1, value=student)\n",
        "  ws.cell(row=row_num, column=2, value=subjects[\"math\"])\n",
        "  ws.cell(row=row_num, column=3, value=subjects[\"science\"])\n",
        "  ws.cell(row=row_num, column=4, value=subjects[\"english\"])\n",
        "  ws.cell(row=row_num, column=5, value=subjects[\"gym\"])\n",
        "\n",
        "# average formulas\n",
        "num_students = len(data)\n",
        "average_row = num_students + 2\n",
        "ws.cell(row=average_row, column=1, value=\"Average\")\n",
        "\n",
        "for col in range(2, 6):\n",
        "  col_letter = get_column_letter(col)\n",
        "  formula = f\"=AVERAGE({col_letter}2:{col_letter}{1 + num_students})\"\n",
        "  ws.cell(row=average_row, column=col, value=formula)\n",
        "\n",
        "# Save workbook\n",
        "wb.save('gradebook.xlsx')"
      ],
      "metadata": {
        "id": "0VwUZ6mX8Jll"
      },
      "execution_count": 2,
      "outputs": []
    }
  ]
}