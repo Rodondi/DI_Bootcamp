{
  "nbformat": 4,
  "nbformat_minor": 0,
  "metadata": {
    "colab": {
      "provenance": []
    },
    "kernelspec": {
      "name": "python3",
      "display_name": "Python 3"
    },
    "language_info": {
      "name": "python"
    }
  },
  "cells": [
    {
      "cell_type": "markdown",
      "source": [
        "- use this website : Github/topics\n",
        "- Write a Python script using the requests library to fetch the HTML content of the chosen website.\n",
        "- Print the status code of the response to ensure the request was successful using .status_code, it should be 200.\n",
        "- Print the first 100 characters of the HTML content to verify the response.\n",
        "- Save the HTML content to a file named webpage.html. Ensure you handle the text encoding correctly.\n",
        "- Use BeautifulSoup to parse the saved HTML content.\n",
        "- Identify two distinct pieces of information on the webpage to extract (e.g., titles of the topics and their descriptions).\n",
        "- Write code to extract these pieces of information. Ensure you identify the correct HTML tags and classes used for these elements on the webpage.\n",
        "- Print the length and content of each extracted list to verify the extraction process.\n",
        "- Create a Python dictionary to structure the extracted data, with keys representing the type of information (e.g., ‘title’ and ‘description’).\n",
        "- Convert this dictionary into a pandas DataFrame.\n",
        "- Print the DataFrame to confirm its structure and contents.\n"
      ],
      "metadata": {
        "id": "LfcjUonTzEQR"
      }
    },
    {
      "cell_type": "code",
      "execution_count": 2,
      "metadata": {
        "id": "As2TnpvGQPBA"
      },
      "outputs": [],
      "source": [
        "import requests\n",
        "from bs4 import BeautifulSoup\n",
        "import pandas as pd"
      ]
    },
    {
      "cell_type": "code",
      "source": [
        "# Fetch the HTML content\n",
        "url = \"https://github.com/topics\"\n",
        "response = requests.get(url)"
      ],
      "metadata": {
        "id": "hJtNgnlK0HZx"
      },
      "execution_count": 3,
      "outputs": []
    },
    {
      "cell_type": "code",
      "source": [
        "# Print Status Code\n",
        "print(\"StatusCode:\", response.status_code)"
      ],
      "metadata": {
        "colab": {
          "base_uri": "https://localhost:8080/"
        },
        "id": "W4tHlIZ90fkF",
        "outputId": "84575a2f-1a3c-4c29-ff52-78339563a649"
      },
      "execution_count": 4,
      "outputs": [
        {
          "output_type": "stream",
          "name": "stdout",
          "text": [
            "StatusCode: 200\n"
          ]
        }
      ]
    },
    {
      "cell_type": "code",
      "source": [
        "# Print the first 100 characters of the HTML\n",
        "print(\"\\nFirst 100 characters of HTML:\\n\", response.text[:100])"
      ],
      "metadata": {
        "colab": {
          "base_uri": "https://localhost:8080/"
        },
        "id": "CHM8q8Td0tdr",
        "outputId": "6221b9ec-2ca9-466e-8901-a891d44bcc18"
      },
      "execution_count": 5,
      "outputs": [
        {
          "output_type": "stream",
          "name": "stdout",
          "text": [
            "\n",
            "First 100 characters of HTML:\n",
            " \n",
            "\n",
            "<!DOCTYPE html>\n",
            "<html\n",
            "  lang=\"en\"\n",
            "  \n",
            "  data-color-mode=\"auto\" data-light-theme=\"light\" data-dark-t\n"
          ]
        }
      ]
    },
    {
      "cell_type": "code",
      "source": [
        "# Save the HTML content to a file\n",
        "with open(\"webpage.html\", \"w\", encoding=\"utf-8\") as file:\n",
        "    file.write(response.text)"
      ],
      "metadata": {
        "id": "w3NjHG_-1O2C"
      },
      "execution_count": 6,
      "outputs": []
    },
    {
      "cell_type": "code",
      "source": [
        "# Parse the saved HTML with BeautifulSoup\n",
        "with open(\"webpage.html\", \"r\", encoding=\"utf-8\") as file:\n",
        "    soup = BeautifulSoup(file, \"html.parser\")"
      ],
      "metadata": {
        "id": "jez495rZ1pI0"
      },
      "execution_count": 7,
      "outputs": []
    },
    {
      "cell_type": "code",
      "source": [
        "# Identify and extract topics (titles and descriptions)\n",
        "titles = [tag.text.strip() for tag in soup.find_all(\"p\", class_=\"f3 lh-condensed mb-0 mt-1 Link--primary\")]\n",
        "descriptions = [tag.text.strip() for tag in soup.find_all(\"p\", class_=\"f5 color-fg-muted mb-0 mt-1\")]"
      ],
      "metadata": {
        "id": "e6mXEnaV2uy0"
      },
      "execution_count": 8,
      "outputs": []
    },
    {
      "cell_type": "code",
      "source": [
        "# Print lengths and contents\n",
        "print(\"\\nNumber of titles found:\", len(titles))\n",
        "print(\"Titles:\", titles)\n",
        "\n",
        "print(\"\\nNumber of descriptions found:\", len(descriptions))\n",
        "print(\"Descriptions:\", descriptions)"
      ],
      "metadata": {
        "colab": {
          "base_uri": "https://localhost:8080/"
        },
        "id": "a6hRCRb87D6G",
        "outputId": "1ac8eae1-b748-4af2-8700-c0730e963bb0"
      },
      "execution_count": 12,
      "outputs": [
        {
          "output_type": "stream",
          "name": "stdout",
          "text": [
            "\n",
            "Number of titles found: 16\n",
            "Titles: ['Awesome Lists', 'Chrome', 'Code quality', 'Compiler', 'CSS', 'Database', 'Front end', 'JavaScript', 'Node.js', 'npm', 'Project management', 'Python', 'React', 'React Native', 'Scala', 'TypeScript']\n",
            "\n",
            "Number of descriptions found: 16\n",
            "Descriptions: ['An awesome list is a list of awesome things curated by the community.', 'Chrome is a web browser from the tech company Google.', 'Automate your code review with style, quality, security, and test‑coverage checks when you need them.', 'Compilers are software that translate higher-level programming languages to lower-level languages (e.g. machine code).', 'Cascading Style Sheets (CSS) is a language used most often to style and improve upon the appearance of views.', 'A database is a structured set of data held in a computer, usually a server.', 'Front end is the programming and layout that people see and interact with.', 'JavaScript (JS) is a lightweight interpreted programming language with first-class functions.', 'Node.js is a tool for executing JavaScript in a variety of environments.', 'npm is a package manager for JavaScript included with Node.js.', \"Project management is about building scope and executing on the project's goals.\", 'Python is a dynamically typed programming language.', 'React is an open source JavaScript library used for designing user interfaces.', 'React Native is a JavaScript mobile framework developed by Facebook.', 'Scala is an object-oriented programming language.', 'TypeScript is a typed superset of JavaScript that compiles to plain JavaScript.']\n"
          ]
        }
      ]
    },
    {
      "cell_type": "code",
      "source": [
        "# Create Dictionary\n",
        "data = {\n",
        "    \"Title\": titles,\n",
        "    \"Description\": descriptions\n",
        "}"
      ],
      "metadata": {
        "id": "hj_2_9Lk9HB6"
      },
      "execution_count": 14,
      "outputs": []
    },
    {
      "cell_type": "code",
      "source": [
        "# Convert to Dataframe\n",
        "df = pd.DataFrame(data)"
      ],
      "metadata": {
        "id": "RDo9uuZ09jt_"
      },
      "execution_count": 16,
      "outputs": []
    },
    {
      "cell_type": "code",
      "source": [
        "# Print dataFrame\n",
        "print(\"\\nExtracted DataFrame:\\n\")\n",
        "print(df)"
      ],
      "metadata": {
        "colab": {
          "base_uri": "https://localhost:8080/"
        },
        "id": "KtxlswX794ue",
        "outputId": "192ab954-6f09-4619-9e38-5a4aefe6204f"
      },
      "execution_count": 17,
      "outputs": [
        {
          "output_type": "stream",
          "name": "stdout",
          "text": [
            "\n",
            "Extracted DataFrame:\n",
            "\n",
            "                 Title                                        Description\n",
            "0        Awesome Lists  An awesome list is a list of awesome things cu...\n",
            "1               Chrome  Chrome is a web browser from the tech company ...\n",
            "2         Code quality  Automate your code review with style, quality,...\n",
            "3             Compiler  Compilers are software that translate higher-l...\n",
            "4                  CSS  Cascading Style Sheets (CSS) is a language use...\n",
            "5             Database  A database is a structured set of data held in...\n",
            "6            Front end  Front end is the programming and layout that p...\n",
            "7           JavaScript  JavaScript (JS) is a lightweight interpreted p...\n",
            "8              Node.js  Node.js is a tool for executing JavaScript in ...\n",
            "9                  npm  npm is a package manager for JavaScript includ...\n",
            "10  Project management  Project management is about building scope and...\n",
            "11              Python  Python is a dynamically typed programming lang...\n",
            "12               React  React is an open source JavaScript library use...\n",
            "13        React Native  React Native is a JavaScript mobile framework ...\n",
            "14               Scala  Scala is an object-oriented programming language.\n",
            "15          TypeScript  TypeScript is a typed superset of JavaScript t...\n"
          ]
        }
      ]
    }
  ]
}