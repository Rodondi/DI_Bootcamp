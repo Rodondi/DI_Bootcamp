{
  "nbformat": 4,
  "nbformat_minor": 0,
  "metadata": {
    "colab": {
      "provenance": []
    },
    "kernelspec": {
      "name": "python3",
      "display_name": "Python 3"
    },
    "language_info": {
      "name": "python"
    }
  },
  "cells": [
    {
      "cell_type": "markdown",
      "source": [
        "🌟 Exercise 1: Cats\n",
        "\n",
        "Instructions\n",
        "\n",
        "Using this class\n",
        "\n",
        "class Cat:\n",
        "    def __init__(self, cat_name, cat_age):\n",
        "        self.name = cat_name\n",
        "        self.age = cat_age\n",
        "\n",
        "Instantiate three Cat objects using the code provided above.\n",
        "\n",
        "Outside of the class, create a function that finds the oldest cat and returns the cat.\n",
        "\n",
        "Print the following string: “The oldest cat is <cat_name>, and is <cat_age> years old.”. Use the function previously created.\n"
      ],
      "metadata": {
        "id": "1qcLoFIkAM_g"
      }
    },
    {
      "cell_type": "code",
      "source": [
        "class Cat:\n",
        "    def __init__(self, cat_name, cat_age):\n",
        "        self.name = cat_name\n",
        "        self.age = cat_age\n",
        "\n",
        "def find_oldest_cat(cats):\n",
        "    return max(cats, key=lambda cat: cat.age)\n",
        "\n",
        "def main():\n",
        "    cat1 = Cat(\"Paka\", 5)\n",
        "    cat2 = Cat(\"Dobby\", 3)\n",
        "    cat3 = Cat(\"Atoti\", 7)\n",
        "    cats = [cat1, cat2, cat3]\n",
        "    oldest_cat = find_oldest_cat(cats)\n",
        "    print(f\"The oldest cat is {oldest_cat.name}, and is {oldest_cat.age} years old.\")\n",
        "\n",
        "if __name__ == \"__main__\":\n",
        "    main()"
      ],
      "metadata": {
        "colab": {
          "base_uri": "https://localhost:8080/"
        },
        "id": "C31lqk_5AfGK",
        "outputId": "8fb86d8d-777b-4668-fb95-5d0ad8fbc1b9"
      },
      "execution_count": null,
      "outputs": [
        {
          "output_type": "stream",
          "name": "stdout",
          "text": [
            "The oldest cat is Atoti, and is 7 years old.\n"
          ]
        }
      ]
    },
    {
      "cell_type": "markdown",
      "source": [
        "🌟 Exercise 2 : Dogs\n",
        "\n",
        "Instructions\n",
        "\n",
        "Create a class called Dog.\n",
        "\n",
        "In this class, create an __init__ method that takes two parameters : name and height. This function instantiates two attributes, which values are the parameters.\n",
        "\n",
        "Create a method called bark that prints the following string “<dog_name> goes woof!”.\n",
        "\n",
        "Create a method called jump that prints the following string “<dog_name> jumps <x> cm high!”. x is the height*2.\n",
        "\n",
        "Outside of the class, create an object called davids_dog. His dog’s name is “Rex” and his height is 50cm.\n",
        "\n",
        "Print the details of his dog (ie. name and height) and call the methods bark and jump.\n",
        "\n",
        "Create an object called sarahs_dog. Her dog’s name is “Teacup” and his height is 20cm.\n",
        "\n",
        "Print the details of her dog (ie. name and height) and call the methods bark and jump.\n",
        "\n",
        "Create an if statement outside of the class to check which dog is bigger.\n",
        "Print the name of the bigger"
      ],
      "metadata": {
        "id": "qc8SyKFBY5Y8"
      }
    },
    {
      "cell_type": "code",
      "source": [
        "class Dog:\n",
        "    def __init__(self, name, height):\n",
        "        self.name = name\n",
        "        self.height = height\n",
        "\n",
        "    def bark(self):\n",
        "        print(f\"{self.name} goes woof!\")\n",
        "\n",
        "    def jump(self):\n",
        "        jump_height = self.height * 2\n",
        "        print(f\"{self.name} jumps {jump_height} cm high!\")\n",
        "\n",
        "# Creates David's dog\n",
        "davids_dog = Dog(\"Rex\", 50)\n",
        "\n",
        "# Prints David's dog details and call methods\n",
        "print(f\"David's dog name: {davids_dog.name}, height: {davids_dog.height}cm\")\n",
        "davids_dog.bark()\n",
        "davids_dog.jump()\n",
        "\n",
        "# Creates Sarah's dog\n",
        "sarahs_dog = Dog(\"Teacup\", 20)\n",
        "\n",
        "# Prints Sarah's dog details and call methods\n",
        "print(f\"Sarah's dog name: {sarahs_dog.name}, height: {sarahs_dog.height}cm\")\n",
        "sarahs_dog.bark()\n",
        "sarahs_dog.jump()\n",
        "\n",
        "# Checks which dog is bigger\n",
        "if davids_dog.height > sarahs_dog.height:\n",
        "    print(f\"{davids_dog.name} is bigger.\")\n",
        "elif sarahs_dog.height > davids_dog.height:\n",
        "    print(f\"{sarahs_dog.name} is bigger.\")"
      ],
      "metadata": {
        "colab": {
          "base_uri": "https://localhost:8080/"
        },
        "id": "h7nITfWaa9bq",
        "outputId": "8d56e60a-e4df-4e9b-af8a-037a39515744"
      },
      "execution_count": 5,
      "outputs": [
        {
          "output_type": "stream",
          "name": "stdout",
          "text": [
            "David's dog name: Rex, height: 50cm\n",
            "Rex goes woof!\n",
            "Rex jumps 100 cm high!\n",
            "Sarah's dog name: Teacup, height: 20cm\n",
            "Teacup goes woof!\n",
            "Teacup jumps 40 cm high!\n",
            "Rex is bigger.\n"
          ]
        }
      ]
    },
    {
      "cell_type": "markdown",
      "source": [
        "🌟 Exercise 3 : Who’s the song producer?\n",
        "\n",
        "Instructions\n",
        "\n",
        "1. Define a class called Song, it will show the lyrics of a song.\n",
        "Its __init__() method should have two arguments: self and lyrics (a list).\n",
        "\n",
        "2. Inside your class create a method called sing_me_a_song that prints each element of lyrics on its own line.\n",
        "\n",
        "3. Create an object, for example:\n",
        "\n",
        "stairway= Song([\"There’s a lady who's sure\",\"all that glitters is gold\", \"and she’s buying a stairway to heaven\"])\n",
        "\n",
        "\n",
        "4. Then, call the sing_me_a_song method. The output should be:\n",
        "\n",
        "There’s a lady who's sure\n",
        "\n",
        "all that glitters is gold\n",
        "\n",
        "and she’s buying a stairway to heaven"
      ],
      "metadata": {
        "id": "DaNV3gVjAQVB"
      }
    },
    {
      "cell_type": "code",
      "source": [
        "class Song:\n",
        "    def __init__(self, lyrics):\n",
        "        self.lyrics = lyrics\n",
        "\n",
        "    def sing_me_a_song(self):\n",
        "        for line in self.lyrics:\n",
        "            print(line)\n",
        "\n",
        "# Creates a Song object\n",
        "stairway = Song([\"There’s a lady who's sure\", \"all that glitters is gold\", \"and she’s buying a stairway to heaven\"])\n",
        "\n",
        "# Callsthe sing_me_a_song method\n",
        "stairway.sing_me_a_song()"
      ],
      "metadata": {
        "colab": {
          "base_uri": "https://localhost:8080/"
        },
        "id": "D1_8hTCTcxf-",
        "outputId": "5a7a2c61-7cf8-4b01-ce9b-a0cfce54f3c7"
      },
      "execution_count": 7,
      "outputs": [
        {
          "output_type": "stream",
          "name": "stdout",
          "text": [
            "There’s a lady who's sure\n",
            "all that glitters is gold\n",
            "and she’s buying a stairway to heaven\n"
          ]
        }
      ]
    },
    {
      "cell_type": "markdown",
      "source": [
        "Exercise 4 : Afternoon at the Zoo\n",
        "\n",
        "Instructions\n",
        "\n",
        "Create a class called Zoo.\n",
        "\n",
        "In this class create a method __init__ that takes one parameter: zoo_name.\n",
        "It instantiates two attributes: animals (an empty list) and name (name of the zoo).\n",
        "\n",
        "Create a method called add_animal that takes one parameter new_animal. This method adds the new_animal to the animals list as long as it isn’t already in the list.\n",
        "\n",
        "Create a method called get_animals that prints all the animals of the zoo.\n",
        "\n",
        "Create a method called sell_animal that takes one parameter animal_sold. This method removes the animal from the list and of course the animal needs to exist in the list.\n",
        "\n",
        "Create a method called sort_animals that sorts the animals alphabetically and groups them together based on their first letter.\n",
        "Example\n",
        "\n",
        "{\n",
        "    A: \"Ape\",\n",
        "    B: [\"Baboon\", \"Bear\"],\n",
        "    C: ['Cat', 'Cougar'],\n",
        "    E: ['Eel', 'Emu']\n",
        "}\n",
        "\n",
        "\n",
        "Create a method called get_groups that prints the animal/animals inside each group.\n",
        "\n",
        "Create an object called new_york_zoo and call all the methods.\n",
        "Tip: The zookeeper is the one who will use this class.\n",
        "Example\n",
        "Which animal should we add to the zoo --> Giraffe\n",
        "\n",
        "x.add_animal(Giraffe)"
      ],
      "metadata": {
        "id": "swC3PAdjdW-Q"
      }
    },
    {
      "cell_type": "code",
      "source": [
        "class Zoo:\n",
        "    def __init__(self, zoo_name):\n",
        "        self.name = zoo_name\n",
        "        self.animals = []\n",
        "\n",
        "    def add_animal(self, new_animal):\n",
        "        if new_animal not in self.animals:\n",
        "            self.animals.append(new_animal)\n",
        "\n",
        "    def get_animals(self):\n",
        "        print(f\"Animals in {self.name}: {', '.join(self.animals)}\")\n",
        "\n",
        "    def sell_animal(self, animal_sold):\n",
        "        if animal_sold in self.animals:\n",
        "            self.animals.remove(animal_sold)\n",
        "\n",
        "    def sort_animals(self):\n",
        "        sorted_animals = sorted(self.animals)\n",
        "        grouped_animals = {}\n",
        "\n",
        "        for animal in sorted_animals:\n",
        "            first_letter = animal[0]\n",
        "            if first_letter in grouped_animals:\n",
        "                grouped_animals[first_letter].append(animal)\n",
        "            else:\n",
        "                grouped_animals[first_letter] = [animal]\n",
        "\n",
        "        return grouped_animals\n",
        "\n",
        "    def get_groups(self):\n",
        "        grouped_animals = self.sort_animals()\n",
        "        for letter, group in grouped_animals.items():\n",
        "            print(f\"{letter}: {group}\")\n",
        "\n",
        "# Creates a Zoo object\n",
        "new_york_zoo = Zoo(\"New York Zoo\")\n",
        "\n",
        "# Adds animals\n",
        "new_york_zoo.add_animal(\"Giraffe\")\n",
        "new_york_zoo.add_animal(\"Elephant\")\n",
        "new_york_zoo.add_animal(\"Gorilla\")\n",
        "new_york_zoo.add_animal(\"Eagle\")\n",
        "new_york_zoo.add_animal(\"Bear\")\n",
        "new_york_zoo.add_animal(\"Baboon\")\n",
        "new_york_zoo.add_animal(\"Cougar\")\n",
        "new_york_zoo.add_animal(\"Cat\")\n",
        "\n",
        "# Gets animals\n",
        "new_york_zoo.get_animals()\n",
        "\n",
        "# Sells an animal\n",
        "new_york_zoo.sell_animal(\"Eagle\")\n",
        "\n",
        "# Gets animals after selling\n",
        "new_york_zoo.get_animals()\n",
        "\n",
        "# Gets sorted animal groups\n",
        "new_york_zoo.get_groups()"
      ],
      "metadata": {
        "colab": {
          "base_uri": "https://localhost:8080/"
        },
        "id": "pQ3u-O-neWRt",
        "outputId": "135cbe60-5290-4a08-d2dd-cb0dd1be7818"
      },
      "execution_count": 9,
      "outputs": [
        {
          "output_type": "stream",
          "name": "stdout",
          "text": [
            "Animals in New York Zoo: Giraffe, Elephant, Gorilla, Eagle, Bear, Baboon, Cougar, Cat\n",
            "Animals in New York Zoo: Giraffe, Elephant, Gorilla, Bear, Baboon, Cougar, Cat\n",
            "B: ['Baboon', 'Bear']\n",
            "C: ['Cat', 'Cougar']\n",
            "E: ['Elephant']\n",
            "G: ['Giraffe', 'Gorilla']\n"
          ]
        }
      ]
    }
  ]
}