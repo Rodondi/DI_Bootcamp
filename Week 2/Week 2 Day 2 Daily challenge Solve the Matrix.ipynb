{
  "nbformat": 4,
  "nbformat_minor": 0,
  "metadata": {
    "colab": {
      "provenance": []
    },
    "kernelspec": {
      "name": "python3",
      "display_name": "Python 3"
    },
    "language_info": {
      "name": "python"
    }
  },
  "cells": [
    {
      "cell_type": "markdown",
      "source": [
        "Instructions\n",
        "\n",
        "Given a “Matrix” string:\n",
        "\n",
        "7ii\n",
        "Tsx\n",
        "h%?\n",
        "i #\n",
        "sM\n",
        "$a\n",
        "#t%\n",
        "^r!\n",
        "\n",
        "\n",
        "The matrix is a grid of strings (alphanumeric characters and spaces) with a hidden message in it.\n",
        "\n",
        "A grid means that you could potentially break it into rows and columns, like here:\n",
        "\n",
        "7\ti\ti\n",
        "T\ts\tx\n",
        "h\t%\t?\n",
        "i\t\t#\n",
        "s\tM\n",
        "$\ta\n",
        "#\tt\t%\n",
        "^\tr\t!\n",
        "\n",
        "\n",
        "Matrix: A matrix is a two-dimensional array. It is a grid of numbers arranged in rows and columns.\n",
        "\n",
        "To reproduce the grid, the matrix should be a 2D list, not a string\n",
        "\n",
        "To decrypt the matrix, Neo reads each column from top to bottom, starting from the leftmost column, selecting only the alpha characters and connecting them. Then he replaces every group of symbols between two alpha characters by a space.\n",
        "\n",
        "Using his technique, try to decode this matrix.\n",
        "\n",
        "Hints:\n",
        "\n",
        "Use\n",
        "● lists for storing data\n",
        "● Loops for going through the data\n",
        "● if/else statements to check the data\n",
        "● String for the output of the secret message\n",
        "\n",
        "Hint (if needed) : Look at the remote learning “Matrix” video."
      ],
      "metadata": {
        "id": "NJBNO59JmHVm"
      }
    },
    {
      "cell_type": "code",
      "execution_count": 4,
      "metadata": {
        "colab": {
          "base_uri": "https://localhost:8080/"
        },
        "id": "CJ_iJXhOmBsF",
        "outputId": "a90c17a5-087c-4763-b3da-d307ad212ca3"
      },
      "outputs": [
        {
          "output_type": "stream",
          "name": "stdout",
          "text": [
            "This is Matrix\n"
          ]
        }
      ],
      "source": [
        "matrix = [\n",
        "    ['7', 'i', 'i'],\n",
        "    ['T', 's', 'x'],\n",
        "    ['h', '%', '?'],\n",
        "    ['i', ' ', '#'],\n",
        "    ['s', 'M', ' '],\n",
        "    ['$', 'a', ' '],\n",
        "    ['#', 't', '%'],\n",
        "    ['^', 'r', '!']\n",
        "]\n",
        "\n",
        "def decrypt_matrix(matrix):\n",
        "    rows = len(matrix)\n",
        "    cols = len(matrix[0])\n",
        "\n",
        "    # Read column-wise\n",
        "    decoded_chars = []\n",
        "\n",
        "    for col in range(cols):\n",
        "        for row in range(rows):\n",
        "            char = matrix[row][col]\n",
        "            if char.isalpha():\n",
        "                decoded_chars.append(char)\n",
        "            elif decoded_chars and decoded_chars[-1] != ' ':\n",
        "                decoded_chars.append(' ')  # Replaces symbols with spaces\n",
        "\n",
        "    # Converts the list to string and removes extra spaces\n",
        "    message = ''.join(decoded_chars)\n",
        "    return ' '.join(message.split())  # Remove unnecessary spaces\n",
        "\n",
        "# Decrypts the matrix\n",
        "secret_message = decrypt_matrix(matrix)\n",
        "print(secret_message)"
      ]
    }
  ]
}