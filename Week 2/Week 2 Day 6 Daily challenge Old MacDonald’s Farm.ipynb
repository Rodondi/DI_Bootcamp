{
  "nbformat": 4,
  "nbformat_minor": 0,
  "metadata": {
    "colab": {
      "provenance": []
    },
    "kernelspec": {
      "name": "python3",
      "display_name": "Python 3"
    },
    "language_info": {
      "name": "python"
    }
  },
  "cells": [
    {
      "cell_type": "markdown",
      "source": [
        "Instructions : Old MacDonald’s Farm\n",
        "\n",
        "Take a look at the following code and output:\n",
        "\n",
        "File: market.py\n",
        "\n",
        "macdonald = Farm(\"McDonald\")\n",
        "macdonald.add_animal('cow',5)\n",
        "macdonald.add_animal('sheep')\n",
        "macdonald.add_animal('sheep')\n",
        "macdonald.add_animal('goat', 12)\n",
        "print(macdonald.get_info())\n",
        "\n",
        "Output\n",
        "\n",
        "McDonald's farm\n",
        "\n",
        "cow : 5\n",
        "\n",
        "sheep : 2\n",
        "\n",
        "goat : 12\n",
        "\n",
        "    E-I-E-I-0!\n",
        "\n",
        "\n",
        "Create the code that is needed to receive the result provided above. Below are a few questions to assist you with your code:\n",
        "\n",
        "Create a class called Farm. How should it be implemented?\n",
        "\n",
        "Does the Farm class need an __init__ method? If so, what parameters should it take?\n",
        "\n",
        "How many methods does the Farm class need?\n",
        "\n",
        "Do you notice anything interesting about the way we are calling the add_animal method? What parameters should this function have? How many…?\n",
        "\n",
        "Test your code and make sure you get the same results as the example above.\n",
        "\n",
        "Bonus: nicely line the text in columns as seen in the example above. Use string formatting.\n",
        "\n",
        "\n",
        "Expand The Farm\n",
        "Add a method called get_animal_types to the Farm class. This method should return a sorted list of all the animal types (names) in the farm. With the example above, the list should be: ['cow', 'goat', 'sheep'].\n",
        "\n",
        "Add another method to the Farm class called get_short_info. This method should return the following string: “McDonald’s farm has cows, goats and sheeps.”. The method should call the get_animal_types function to get a list of the animals.\n",
        "\n",
        "Note : In English the plural form of the word “sheep” is sheep. But for the purpose of the exercise, let’s say that if there is more than 1 animal, an “s” should be added at the end of the word."
      ],
      "metadata": {
        "id": "zDAEySvcofk2"
      }
    },
    {
      "cell_type": "code",
      "execution_count": 2,
      "metadata": {
        "colab": {
          "base_uri": "https://localhost:8080/"
        },
        "id": "6TTGJEDUe8GR",
        "outputId": "2d71ab2c-9c25-4aee-c0be-c281e555aeb1"
      },
      "outputs": [
        {
          "output_type": "stream",
          "name": "stdout",
          "text": [
            "McDonald's farm\n",
            "\n",
            "cow : 5\n",
            "goat : 12\n",
            "sheep : 2\n",
            "\n",
            "    E-I-E-I-0!\n",
            "\n",
            "['cow', 'goat', 'sheep']\n",
            "McDonald's farm has cows, goats and sheeps.\n"
          ]
        }
      ],
      "source": [
        "class Farm:\n",
        "    def __init__(self, name):\n",
        "        self.name = name\n",
        "        self.animals = {}\n",
        "\n",
        "    def add_animal(self, animal, count=1):\n",
        "        if animal in self.animals:\n",
        "            self.animals[animal] += count\n",
        "        else:\n",
        "            self.animals[animal] = count\n",
        "\n",
        "    def get_info(self):\n",
        "        info = f\"{self.name}'s farm\\n\\n\"\n",
        "        for animal, count in sorted(self.animals.items()):\n",
        "            info += f\"{animal} : {count}\\n\"\n",
        "        info += \"\\n    E-I-E-I-0!\\n\"\n",
        "        return info\n",
        "\n",
        "    def get_animal_types(self):\n",
        "        return sorted(self.animals.keys())\n",
        "\n",
        "    def get_short_info(self):\n",
        "        animal_list = self.get_animal_types()\n",
        "        formatted_animals = [f\"{animal}s\" if self.animals[animal] > 1 else animal for animal in animal_list]\n",
        "        return f\"{self.name}'s farm has {', '.join(formatted_animals[:-1])} and {formatted_animals[-1]}.\" if len(formatted_animals) > 1 else f\"{self.name}'s farm has {formatted_animals[0]}.\"\n",
        "\n",
        "# Testing the implementation\n",
        "macdonald = Farm(\"McDonald\")\n",
        "macdonald.add_animal('cow', 5)\n",
        "macdonald.add_animal('sheep')\n",
        "macdonald.add_animal('sheep')\n",
        "macdonald.add_animal('goat', 12)\n",
        "print(macdonald.get_info())\n",
        "print(macdonald.get_animal_types())\n",
        "print(macdonald.get_short_info())"
      ]
    },
    {
      "cell_type": "code",
      "source": [
        "class Farm:\n",
        "    def __init__(self, name):\n",
        "        self.name = name\n",
        "        self.animals = {}\n",
        "\n",
        "    def add_animal(self, animal, count=1):\n",
        "        if animal in self.animals:\n",
        "            self.animals[animal] += count\n",
        "        else:\n",
        "            self.animals[animal] = count\n",
        "\n",
        "    def get_info(self):\n",
        "        info = f\"{self.name}'s farm\\n\\n\"\n",
        "        for animal, count in self.animals.items():\n",
        "            info += f\"{animal:<10} : {count}\\n\"\n",
        "        info += \"\\n    E-I-E-I-0!\"\n",
        "        return info\n",
        "\n",
        "    def get_animal_types(self):\n",
        "        return sorted(list(self.animals.keys()))\n",
        "\n",
        "    def get_short_info(self):\n",
        "        animal_types = self.get_animal_types()\n",
        "        animal_strings = []\n",
        "        for animal in animal_types:\n",
        "            count = self.animals[animal]\n",
        "            if count > 1:\n",
        "                if animal == \"sheep\":\n",
        "                  animal_strings.append(animal + \"s\")\n",
        "                else:\n",
        "                    animal_strings.append(animal + \"s\")\n",
        "            else:\n",
        "                animal_strings.append(animal)\n",
        "        return f\"{self.name}'s farm has {', '.join(animal_strings)}.\"\n",
        "\n",
        "macdonald = Farm(\"McDonald\")\n",
        "macdonald.add_animal('cow', 5)\n",
        "macdonald.add_animal('sheep')\n",
        "macdonald.add_animal('sheep')\n",
        "macdonald.add_animal('goat', 12)\n",
        "print(macdonald.get_info())\n",
        "\n",
        "print(macdonald.get_animal_types())\n",
        "print(macdonald.get_short_info())"
      ],
      "metadata": {
        "colab": {
          "base_uri": "https://localhost:8080/"
        },
        "id": "qM7ArqMwp3cy",
        "outputId": "a3d2767b-436b-4946-8934-709ed32683a4"
      },
      "execution_count": 3,
      "outputs": [
        {
          "output_type": "stream",
          "name": "stdout",
          "text": [
            "McDonald's farm\n",
            "\n",
            "cow        : 5\n",
            "sheep      : 2\n",
            "goat       : 12\n",
            "\n",
            "    E-I-E-I-0!\n",
            "['cow', 'goat', 'sheep']\n",
            "McDonald's farm has cows, goats, sheeps.\n"
          ]
        }
      ]
    }
  ]
}