{
  "nbformat": 4,
  "nbformat_minor": 0,
  "metadata": {
    "colab": {
      "provenance": []
    },
    "kernelspec": {
      "name": "python3",
      "display_name": "Python 3"
    },
    "language_info": {
      "name": "python"
    }
  },
  "cells": [
    {
      "cell_type": "markdown",
      "source": [
        "Challenge 1 : Sorting\n",
        "\n",
        "Instructions\n",
        "Write a program that accepts a comma separated sequence of words as input and prints the words in a comma-separated sequence after sorting them alphabetically.\n",
        "Use List Comprehension\n",
        "Example:\n",
        "\n",
        "Suppose the following input is supplied to the program: without,hello,bag,world\n",
        "\n",
        "Then, the output should be: bag,hello,without,world"
      ],
      "metadata": {
        "id": "pVUbxhGBONJ-"
      }
    },
    {
      "cell_type": "code",
      "execution_count": 1,
      "metadata": {
        "colab": {
          "base_uri": "https://localhost:8080/"
        },
        "id": "c7cQrsGSIMuk",
        "outputId": "d8ef4544-19b2-44bf-b674-cbeb1d302f22"
      },
      "outputs": [
        {
          "output_type": "stream",
          "name": "stdout",
          "text": [
            "Enter comma separated words: without,hello,bag,world\n",
            "bag,hello,without,world\n"
          ]
        }
      ],
      "source": [
        "words = input(\"Enter comma separated words: \").split(',')\n",
        "sorted_words = sorted([word.strip() for word in words])\n",
        "print(','.join(sorted_words))"
      ]
    },
    {
      "cell_type": "markdown",
      "source": [
        "Challenge 2 : Longest Word\n",
        "\n",
        "Instructions\n",
        "Write a function that finds the longest word in a sentence. If two or more words are found, return the first longest word.\n",
        "Characters such as apostrophe, comma, period count as part of the word (e.g. O’Connor is 8 characters long).\n",
        "Examples\n",
        "\n",
        "longest_word(\"Margaret's toy is a pretty doll.\") ➞ \"Margaret's\"\n",
        "\n",
        "longest_word(\"A thing of beauty is a joy forever.\") ➞ \"forever.\"\n",
        "\n",
        "longest_word(\"Forgetfulness is by all means powerless!\") ➞ \"Forgetfulness\""
      ],
      "metadata": {
        "id": "3MGHpU60QYJ-"
      }
    },
    {
      "cell_type": "code",
      "source": [
        "def longest_word(sentence):\n",
        "    words = sentence.split()  # Split sentence into words\n",
        "    return max(words, key=len)  # Find the longest word\n",
        "\n",
        "# Test cases\n",
        "print(longest_word(\"Margaret's toy is a pretty doll.\"))  # ➞ \"Margaret's\"\n",
        "print(longest_word(\"A thing of beauty is a joy forever.\"))  # ➞ \"forever.\"\n",
        "print(longest_word(\"Forgetfulness is by all means powerless!\"))  # ➞ \"Forgetfulness\""
      ],
      "metadata": {
        "colab": {
          "base_uri": "https://localhost:8080/"
        },
        "id": "hwhJScSrTEuj",
        "outputId": "4517a92f-fb64-4ee9-c6df-83eff67a60c9"
      },
      "execution_count": 2,
      "outputs": [
        {
          "output_type": "stream",
          "name": "stdout",
          "text": [
            "Margaret's\n",
            "forever.\n",
            "Forgetfulness\n"
          ]
        }
      ]
    }
  ]
}