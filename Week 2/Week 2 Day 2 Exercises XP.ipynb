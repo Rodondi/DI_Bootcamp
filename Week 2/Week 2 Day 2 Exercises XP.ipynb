{
  "nbformat": 4,
  "nbformat_minor": 0,
  "metadata": {
    "colab": {
      "provenance": []
    },
    "kernelspec": {
      "name": "python3",
      "display_name": "Python 3"
    },
    "language_info": {
      "name": "python"
    }
  },
  "cells": [
    {
      "cell_type": "markdown",
      "source": [
        "🌟 Exercise 1 : What are you learning ?\n",
        "\n",
        "Instructions\n",
        "\n",
        "Write a function called display_message() that prints one sentence telling everyone what you are learning in this course.\n",
        "\n",
        "Call the function, and make sure the message displays correctly."
      ],
      "metadata": {
        "id": "DvOLH_DP4gEo"
      }
    },
    {
      "cell_type": "code",
      "execution_count": 1,
      "metadata": {
        "colab": {
          "base_uri": "https://localhost:8080/"
        },
        "id": "4UL1QSP_4NAT",
        "outputId": "e90223e6-5fb0-4e0c-ece0-f70d1a27c733"
      },
      "outputs": [
        {
          "output_type": "stream",
          "name": "stdout",
          "text": [
            "I am learning Python\n"
          ]
        }
      ],
      "source": [
        "def display_message():\n",
        "    print(\"I am learning Python\")\n",
        "\n",
        "display_message()"
      ]
    },
    {
      "cell_type": "markdown",
      "source": [
        "🌟 Exercise 2: What’s your favorite book ?\n",
        "\n",
        "Instructions\n",
        "\n",
        "Write a function called favorite_book() that accepts one parameter called title.\n",
        "\n",
        "The function should print a message, such as \"One of my favorite books is <title>\".\n",
        "\n",
        "For example: “One of my favorite books is Alice in Wonderland”\n",
        "\n",
        "Call the function, make sure to include a book title as an argument when calling the function."
      ],
      "metadata": {
        "id": "q_VuW_sT42D1"
      }
    },
    {
      "cell_type": "code",
      "source": [
        "def favorite_book(title):\n",
        "    print(f\"One of my favorite books is {title}\")\n",
        "\n",
        "favorite_book(\"Alice in Wonderland\")"
      ],
      "metadata": {
        "colab": {
          "base_uri": "https://localhost:8080/"
        },
        "id": "-Dw_bgx341y6",
        "outputId": "5e9db7c8-4ae1-497f-f271-0bb2c6fb9c3f"
      },
      "execution_count": 2,
      "outputs": [
        {
          "output_type": "stream",
          "name": "stdout",
          "text": [
            "One of my favorite books is Alice in Wonderland\n"
          ]
        }
      ]
    },
    {
      "cell_type": "markdown",
      "source": [
        "🌟 Exercise 3 : Some Geography\n",
        "\n",
        "Instructions\n",
        "\n",
        "Write a function called describe_city() that accepts the name of a city and its country as parameters.\n",
        "\n",
        "The function should print a simple sentence, such as \"<city> is in <country>\".\n",
        "\n",
        "For example “Reykjavik is in Iceland”\n",
        "\n",
        "Give the country parameter a default value.\n",
        "\n",
        "Call your function."
      ],
      "metadata": {
        "id": "tNP5e6Ti5ePC"
      }
    },
    {
      "cell_type": "code",
      "source": [
        "def describe_city(city, country=\"France\"):\n",
        "    print(f\"{city} is in {country}\")\n",
        "\n",
        "describe_city(\"Paris\")\n",
        "describe_city(\"Lyon\")\n",
        "describe_city(\"Marseille\")"
      ],
      "metadata": {
        "colab": {
          "base_uri": "https://localhost:8080/"
        },
        "id": "5gMRpN915lH8",
        "outputId": "d264877a-6ea3-4b1c-de4b-e8cfddb114e7"
      },
      "execution_count": 3,
      "outputs": [
        {
          "output_type": "stream",
          "name": "stdout",
          "text": [
            "Paris is in France\n",
            "Lyon is in France\n",
            "Marseille is in France\n"
          ]
        }
      ]
    },
    {
      "cell_type": "markdown",
      "source": [
        "Exercise 4 : Random\n",
        "\n",
        "Instructions\n",
        "\n",
        "Create a function that accepts a number between 1 and 100 and generates another number randomly between 1 and 100. Use the random module.\n",
        "\n",
        "Compare the two numbers, if it’s the same number, display a success message, otherwise show a fail message and display both numbers."
      ],
      "metadata": {
        "id": "g15Nod1r52DK"
      }
    },
    {
      "cell_type": "code",
      "source": [
        "import random\n",
        "\n",
        "def compare_numbers():\n",
        "    user_number = int(input(\"Enter a number between 1 and 100: \"))\n",
        "    while user_number < 1 or user_number > 100:\n",
        "        user_number = int(input(\"Invalid input. Please enter a number between 1 and 100: \"))\n",
        "\n",
        "    random_number = random.randint(1, 100)\n",
        "    print(f\"Random number: {random_number}\")\n",
        "\n",
        "    if user_number == random_number:\n",
        "        print(\"Success! The numbers match.\")\n",
        "    else:\n",
        "        print(\"Fail! The numbers do not match.\")\n",
        "\n",
        "compare_numbers()"
      ],
      "metadata": {
        "colab": {
          "base_uri": "https://localhost:8080/"
        },
        "id": "WQ4CZsE-6qnu",
        "outputId": "279f92e1-ea93-4951-af4a-439682684322"
      },
      "execution_count": 5,
      "outputs": [
        {
          "output_type": "stream",
          "name": "stdout",
          "text": [
            "Enter a number between 1 and 100: 42\n",
            "Random number: 14\n",
            "Fail! The numbers do not match.\n"
          ]
        }
      ]
    },
    {
      "cell_type": "markdown",
      "source": [
        "🌟 Exercise 5 : Let’s create some personalized shirts !\n",
        "\n",
        "Instructions\n",
        "\n",
        "Write a function called make_shirt() that accepts a size and the text of a message that should be printed on the shirt.\n",
        "\n",
        "The function should print a sentence summarizing the size of the shirt and the message printed on it, such as \"The size of the shirt is <size> and the text is <text>\"\n",
        "\n",
        "Call the function make_shirt().\n",
        "\n",
        "Modify the make_shirt() function so that shirts are large by default with a message that reads “I love Python” by default.\n",
        "\n",
        "Call the function, in order to make a large shirt with the default message\n",
        "\n",
        "Make medium shirt with the default message\n",
        "\n",
        "Make a shirt of any size with a different message.\n",
        "\n",
        "Bonus: Call the function make_shirt() using keyword arguments."
      ],
      "metadata": {
        "id": "6lllSMy88c_0"
      }
    },
    {
      "cell_type": "code",
      "source": [
        "def make_shirt(size=\"large\", text=\"I love Python\"):\n",
        "  print(f\"The size of the shirt is {size} and the text is '{text}'\")\n",
        "\n",
        "# Large shirt with default message\n",
        "make_shirt()\n",
        "\n",
        "# Medium shirt with default message\n",
        "make_shirt(size=\"medium\")\n",
        "\n",
        "# Shirt of any size with a different message\n",
        "make_shirt(size=\"small\", text=\"Coding is fun!\")\n",
        "\n",
        "# Bonus: Call using keyword arguments\n",
        "make_shirt(text=\"Trust me, I’m a Data Analyst\", size=\"extra large\")\n",
        "make_shirt(text=\"while(not success): try_again()\", size=\"medium\")"
      ],
      "metadata": {
        "colab": {
          "base_uri": "https://localhost:8080/"
        },
        "id": "LLmVMIrx8sn1",
        "outputId": "9c00a400-a468-4993-efbe-943edbae20e9"
      },
      "execution_count": 8,
      "outputs": [
        {
          "output_type": "stream",
          "name": "stdout",
          "text": [
            "The size of the shirt is large and the text is 'I love Python'\n",
            "The size of the shirt is medium and the text is 'I love Python'\n",
            "The size of the shirt is small and the text is 'Coding is fun!'\n",
            "The size of the shirt is extra large and the text is 'Trust me, I’m a Data Analyst'\n",
            "The size of the shirt is medium and the text is 'while(not success): try_again()'\n"
          ]
        }
      ]
    },
    {
      "cell_type": "markdown",
      "source": [
        "🌟 Exercise 6 : Magicians …\n",
        "\n",
        "Instructions\n",
        "\n",
        "Using this list of magician’s names\n",
        "\n",
        "magician_names = ['Harry Houdini', 'David Blaine', 'Criss Angel']\n",
        "\n",
        "Create a function called show_magicians(), which prints the name of each magician in the list.\n",
        "\n",
        "Write a function called make_great() that modifies the original list of magicians by adding the phrase \"the Great\" to each magician’s name.\n",
        "\n",
        "Call the function make_great().\n",
        "\n",
        "Call the function show_magicians() to see that the list has actually been modified."
      ],
      "metadata": {
        "id": "Qo2JWHD8APJi"
      }
    },
    {
      "cell_type": "code",
      "source": [
        "magician_names = ['Harry Houdini', 'David Blaine', 'Criss Angel']\n",
        "\n",
        "# Function to display the names of magicians\n",
        "def show_magicians():\n",
        "    for magician in magician_names:\n",
        "        print(magician)\n",
        "\n",
        "# Function that modifies the list by adding \"the Great\" to each name\n",
        "def make_great():\n",
        "    global magician_names\n",
        "    magician_names = [magician + \" the Great\" for magician in magician_names]\n",
        "\n",
        "# Call the function make_great().\n",
        "make_great()\n",
        "\n",
        "# Call the function show_magicians() to see that the list has actually been modified.\n",
        "show_magicians()"
      ],
      "metadata": {
        "colab": {
          "base_uri": "https://localhost:8080/"
        },
        "id": "mK4IhPMAAPTz",
        "outputId": "fa0383d8-2a40-4339-bf88-398022503b7b"
      },
      "execution_count": 19,
      "outputs": [
        {
          "output_type": "stream",
          "name": "stdout",
          "text": [
            "Harry Houdini the Great\n",
            "David Blaine the Great\n",
            "Criss Angel the Great\n"
          ]
        }
      ]
    },
    {
      "cell_type": "markdown",
      "source": [
        "🌟 Exercise 7 : Temperature Advice\n",
        "\n",
        "Instructions\n",
        "\n",
        "Create a function called get_random_temp().\n",
        "\n",
        "This function should return an integer between -10 and 40 degrees (Celsius), selected at random.\n",
        "\n",
        "Test your function to make sure it generates expected results.\n",
        "\n",
        "Create a function called main().\n",
        "\n",
        "Inside this function, call get_random_temp() to get a temperature, and store its value in a variable.\n",
        "\n",
        "Inform the user of the temperature in a friendly message, eg. “The temperature right now is 32 degrees Celsius.”\n",
        "\n",
        "Let’s add more functionality to the main() function. Write some friendly advice relating to the temperature:\n",
        "\n",
        "below zero (eg. “Brrr, that’s freezing! Wear some extra layers today”)\n",
        "\n",
        "between zero and 16 (eg. “Quite chilly! Don’t forget your coat”)\n",
        "\n",
        "between 16 and 23\n",
        "\n",
        "between 24 and 32\n",
        "\n",
        "between 32 and 40\n",
        "\n",
        "Change the get_random_temp() function:\n",
        "\n",
        "Add a parameter to the function, named ‘season’.\n",
        "\n",
        "Inside the function, instead of simply generating a random number between -10 and 40, set lower and upper limits based on the season, eg. if season is ‘winter’, temperatures should only fall between -10 and 16.\n",
        "\n",
        "Now that we’ve changed get_random_temp(), let’s change the main() function:\n",
        "\n",
        "Before calling get_random_temp(), we will need to decide on a season, so that we can call the function correctly. Ask the user to type in a season - ‘summer’, ‘autumn’ (you can use ‘fall’ if you prefer), ‘winter’, or ‘spring’.\n",
        "\n",
        "Use the season as an argument when calling get_random_temp().\n",
        "\n",
        "Bonus: Give the temperature as a floating-point number instead of an integer.\n",
        "\n",
        "Bonus: Instead of asking for the season, ask the user for the number of the month (1 = January, 12 = December). Determine the season according to the month.\n"
      ],
      "metadata": {
        "id": "kYB_nvaxEqim"
      }
    },
    {
      "cell_type": "code",
      "source": [
        "import random\n",
        "\n",
        "# Function to get a random temperature based on the season\n",
        "def get_random_temp(season):\n",
        "    if season == 'winter':\n",
        "        temp = random.uniform(-10, 16)  # Winter temperatures between -10 and 16\n",
        "    elif season == 'spring':\n",
        "        temp = random.uniform(0, 20)   # Spring temperatures between 0 and 20\n",
        "    elif season == 'summer':\n",
        "        temp = random.uniform(20, 40)  # Summer temperatures between 20 and 40\n",
        "    elif season == 'autumn':\n",
        "        temp = random.uniform(10, 25)  # Autumn temperatures between 10 and 25\n",
        "    else:\n",
        "        temp = random.uniform(0, 40)   # Default case for invalid season input (summer-like)\n",
        "\n",
        "    return temp\n",
        "\n",
        "# Function to give advice based on the temperature\n",
        "def give_advice(temp):\n",
        "    if temp < 0:\n",
        "        return \"Brrr, that’s freezing! Wear some extra layers today.\"\n",
        "    elif 0 <= temp < 16:\n",
        "        return \"Quite chilly! Don’t forget your coat.\"\n",
        "    elif 16 <= temp < 23:\n",
        "        return \"The weather is mild. A light jacket should do.\"\n",
        "    elif 24 <= temp < 32:\n",
        "        return \"It’s warm! Don’t forget your sunscreen.\"\n",
        "    elif 32 <= temp <= 40:\n",
        "        return \"It’s hot! Stay hydrated and stay cool.\"\n",
        "\n",
        "# Main function\n",
        "def main():\n",
        "    # Ask the user for the season or month\n",
        "    season = input(\"Please enter a season (winter, spring, summer, autumn): \").lower()\n",
        "\n",
        "    # Get the random temperature based on the season\n",
        "    temp = get_random_temp(season)\n",
        "\n",
        "    # Display the temperature\n",
        "    print(f\"The temperature right now is {temp:.1f} degrees Celsius.\")\n",
        "\n",
        "    # Give temperature-related advice\n",
        "    advice = give_advice(temp)\n",
        "    print(advice)\n",
        "\n",
        "# Call the main function\n",
        "main()\n"
      ],
      "metadata": {
        "colab": {
          "base_uri": "https://localhost:8080/"
        },
        "id": "yld1X8BlFv5r",
        "outputId": "4669d683-feea-4817-d405-ee49981884fc"
      },
      "execution_count": 20,
      "outputs": [
        {
          "output_type": "stream",
          "name": "stdout",
          "text": [
            "Please enter a season (winter, spring, summer, autumn): winter\n",
            "The temperature right now is 13.4 degrees Celsius.\n",
            "Quite chilly! Don’t forget your coat.\n"
          ]
        }
      ]
    },
    {
      "cell_type": "code",
      "source": [
        "def get_season_by_month(month):\n",
        "    if 1 <= month <= 2 or month == 12:\n",
        "        return 'winter'\n",
        "    elif 3 <= month <= 5:\n",
        "        return 'spring'\n",
        "    elif 6 <= month <= 8:\n",
        "        return 'summer'\n",
        "    elif 9 <= month <= 11:\n",
        "        return 'autumn'\n",
        "    else:\n",
        "        return 'summer'  # Default fallback for invalid input\n",
        "\n",
        "# Asking the user for the month number (1-12) and determining the season\n",
        "month = int(input(\"Enter the number of the month (1 = January, 12 = December): \"))\n",
        "season = get_season_by_month(month)"
      ],
      "metadata": {
        "colab": {
          "base_uri": "https://localhost:8080/"
        },
        "id": "VPlKdme6HmXH",
        "outputId": "65d42862-6c34-4f8c-a1dd-362623ce8964"
      },
      "execution_count": 22,
      "outputs": [
        {
          "name": "stdout",
          "output_type": "stream",
          "text": [
            "Enter the number of the month (1 = January, 12 = December): 1\n"
          ]
        }
      ]
    },
    {
      "cell_type": "code",
      "source": [
        "import random\n",
        "\n",
        "def get_random_temp(season):\n",
        "    if season == 'winter':\n",
        "        return random.randint(-10, 16)\n",
        "    elif season == 'spring' or season == 'autumn':\n",
        "        return random.randint(16, 32)\n",
        "    elif season == 'summer':\n",
        "        return random.randint(24, 40)\n",
        "\n",
        "def main():\n",
        "    month = int(input(\"Enter the number of the month (1-12): \"))\n",
        "    if month in [12, 1, 2]:\n",
        "        season = 'winter'\n",
        "    elif month in [3, 4, 5]:\n",
        "        season = 'spring'\n",
        "    elif month in [6, 7, 8]:\n",
        "        season = 'summer'\n",
        "    elif month in [9, 10, 11]:\n",
        "        season = 'autumn'\n",
        "    else:\n",
        "        print(\"Invalid month. Defaulting to winter.\")\n",
        "        season = 'winter'\n",
        "\n",
        "    temp = get_random_temp(season)\n",
        "    print(f\"The temperature right now is {temp} degrees Celsius.\")\n",
        "\n",
        "    if temp < 0:\n",
        "        print(\"Brrr, that's freezing! Wear some extra layers today.\")\n",
        "    elif temp < 16:\n",
        "        print(\"Quite chilly! Don't forget your coat.\")\n",
        "    elif temp < 23:\n",
        "        print(\"A bit cool, but still pleasant. Enjoy the day!\")\n",
        "    elif temp < 32:\n",
        "        print(\"Nice and warm! Perfect weather for outdoor activities.\")\n",
        "    else:\n",
        "        print(\"Warm and sunny! Don't forget to stay hydrated.\")\n",
        "\n",
        "main()"
      ],
      "metadata": {
        "colab": {
          "base_uri": "https://localhost:8080/"
        },
        "id": "qWm_k54HIH8G",
        "outputId": "a0646028-edbd-4be4-9b8b-b08194cab55c"
      },
      "execution_count": 23,
      "outputs": [
        {
          "output_type": "stream",
          "name": "stdout",
          "text": [
            "Enter the number of the month (1-12): 1\n",
            "The temperature right now is 8 degrees Celsius.\n",
            "Quite chilly! Don't forget your coat.\n"
          ]
        }
      ]
    },
    {
      "cell_type": "code",
      "source": [
        "import random\n",
        "\n",
        "def get_random_temp(season):\n",
        "    if season == 'winter':\n",
        "        return round(random.uniform(-10, 16), 2)\n",
        "    elif season == 'spring' or season == 'autumn':\n",
        "        return round(random.uniform(16, 32), 2)\n",
        "    elif season == 'summer':\n",
        "        return round(random.uniform(24, 40), 2)\n",
        "\n",
        "def main():\n",
        "    month = int(input(\"Enter the number of the month (1-12): \"))\n",
        "    if month in [12, 1, 2]:\n",
        "        season = 'winter'\n",
        "    elif month in [3, 4, 5]:\n",
        "        season = 'spring'\n",
        "    elif month in [6, 7, 8]:\n",
        "        season = 'summer'\n",
        "    elif month in [9, 10, 11]:\n",
        "        season = 'autumn'\n",
        "    else:\n",
        "        print(\"Invalid month. Defaulting to winter.\")\n",
        "        season = 'winter'\n",
        "\n",
        "    temp = get_random_temp(season)\n",
        "    print(f\"The temperature right now is {temp} degrees Celsius.\")\n",
        "\n",
        "    if temp < 0:\n",
        "        print(\"Brrr, that's freezing! Wear some extra layers today.\")\n",
        "    elif temp < 16:\n",
        "        print(\"Quite chilly! Don't forget your coat.\")\n",
        "    elif temp < 23:\n",
        "        print(\"A bit cool, but still pleasant. Enjoy the day!\")\n",
        "    elif temp < 32:\n",
        "        print(\"Nice and warm! Perfect weather for outdoor activities.\")\n",
        "    else:\n",
        "        print(\"Warm and sunny! Don't forget to stay hydrated.\")\n",
        "\n",
        "main()"
      ],
      "metadata": {
        "colab": {
          "base_uri": "https://localhost:8080/"
        },
        "id": "sTQCowq8IOBS",
        "outputId": "45541f18-a456-4a2c-cd0a-b37385386408"
      },
      "execution_count": 24,
      "outputs": [
        {
          "output_type": "stream",
          "name": "stdout",
          "text": [
            "Enter the number of the month (1-12): 3\n",
            "The temperature right now is 20.67 degrees Celsius.\n",
            "A bit cool, but still pleasant. Enjoy the day!\n"
          ]
        }
      ]
    },
    {
      "cell_type": "code",
      "source": [
        "import random\n",
        "\n",
        "# Function to get a random temperature based on the season\n",
        "def get_random_temp(season):\n",
        "  if season.lower() == \"winter\":\n",
        "    lower_limit = -10\n",
        "    upper_limit = 16\n",
        "  elif season.lower() == \"spring\":\n",
        "    lower_limit = 10\n",
        "    upper_limit = 25\n",
        "  elif season.lower() == \"summer\":\n",
        "    lower_limit = 25\n",
        "    upper_limit = 40\n",
        "  elif season.lower() == \"autumn\" or season.lower() == \"fall\":\n",
        "    lower_limit = 5\n",
        "    upper_limit = 20\n",
        "  else:\n",
        "    return \"Invalid season. Please enter winter, spring, summer, or autumn/fall.\"\n",
        "\n",
        "  return random.uniform(lower_limit, upper_limit) # using uniform for float numbers\n",
        "\n",
        "# Function that gets the temperature, informs the user, and gives advice.\n",
        "def main():\n",
        "  season = input(\"Enter the season (winter, spring, summer, autumn/fall): \")\n",
        "  temperature = get_random_temp(season)\n",
        "\n",
        "  if type(temperature) is str:\n",
        "      print(temperature) #print error message from get_random_temp\n",
        "      return\n",
        "\n",
        "  print(f\"The temperature right now is {temperature:.2f} degrees Celsius.\") #format to 2 decimal places\n",
        "\n",
        "  if temperature < 0:\n",
        "    print(\"Brrr, that's freezing! Wear some extra layers today.\")\n",
        "  elif 0 <= temperature < 16:\n",
        "    print(\"Quite chilly! Don't forget your coat.\")\n",
        "  elif 16 <= temperature < 24:\n",
        "    print(\"It's a pleasant temperature. A light jacket will do.\")\n",
        "  elif 24 <= temperature < 32:\n",
        "    print(\"Warm and comfortable. Enjoy the day!\")\n",
        "  else:\n",
        "    print(\"Hot! Stay hydrated and seek shade.\")\n",
        "\n",
        "# Bonus: Month based season determination\n",
        "def get_season_from_month(month):\n",
        "    if month in [12, 1, 2]:\n",
        "        return \"winter\"\n",
        "    elif month in [3, 4, 5]:\n",
        "        return \"spring\"\n",
        "    elif month in [6, 7, 8]:\n",
        "        return \"summer\"\n",
        "    elif month in [9, 10, 11]:\n",
        "        return \"autumn\"\n",
        "    else:\n",
        "        return \"Invalid month\"\n",
        "\n",
        "def main_month_season():\n",
        "    month = int(input(\"Enter the month (1-12): \"))\n",
        "    season = get_season_from_month(month)\n",
        "    if season == \"Invalid month\":\n",
        "        print(season)\n",
        "        return\n",
        "    temperature = get_random_temp(season)\n",
        "    print(f\"The temperature right now is {temperature:.2f} degrees Celsius.\")\n",
        "\n",
        "    if temperature < 0:\n",
        "        print(\"Brrr, that's freezing! Wear some extra layers today.\")\n",
        "    elif 0 <= temperature < 16:\n",
        "        print(\"Quite chilly! Don't forget your coat.\")\n",
        "    elif 16 <= temperature < 24:\n",
        "        print(\"It's a pleasant temperature. A light jacket will do.\")\n",
        "    elif 24 <= temperature < 32:\n",
        "        print(\"Warm and comfortable. Enjoy the day!\")\n",
        "    else:\n",
        "        print(\"Hot! Stay hydrated and seek shade.\")\n",
        "\n",
        "# Calling the main function\n",
        "main()\n",
        "#Bonus Month based season\n",
        "main_month_season()"
      ],
      "metadata": {
        "colab": {
          "base_uri": "https://localhost:8080/"
        },
        "id": "V-KBibquIsEX",
        "outputId": "af5d5856-647a-43ba-930f-af8b5c370196"
      },
      "execution_count": 26,
      "outputs": [
        {
          "output_type": "stream",
          "name": "stdout",
          "text": [
            "Enter the season (winter, spring, summer, autumn/fall): winter\n",
            "The temperature right now is 8.67 degrees Celsius.\n",
            "Quite chilly! Don't forget your coat.\n",
            "Enter the month (1-12): 3\n",
            "The temperature right now is 16.74 degrees Celsius.\n",
            "It's a pleasant temperature. A light jacket will do.\n"
          ]
        }
      ]
    },
    {
      "cell_type": "markdown",
      "source": [
        "🌟 Exercise 8 : Star Wars Quiz\n",
        "\n",
        "Instructions\n",
        "\n",
        "This project allows users to take a quiz to test their Star Wars knowledge.\n",
        "The number of correct/incorrect answers are tracked and the user receives different messages depending on how well they did on the quiz.\n",
        "\n",
        "Here is an array of dictionaries, containing those questions and answers\n",
        "\n",
        "data = [\n",
        "    {\n",
        "        \"question\": \"What is Baby Yoda's real name?\",\n",
        "        \"answer\": \"Grogu\"\n",
        "    },\n",
        "    {\n",
        "        \"question\": \"Where did Obi-Wan take Luke after his birth?\",\n",
        "        \"answer\": \"Tatooine\"\n",
        "    },\n",
        "    {\n",
        "        \"question\": \"What year did the first Star Wars movie come out?\",\n",
        "        \"answer\": \"1977\"\n",
        "    },\n",
        "    {\n",
        "        \"question\": \"Who built C-3PO?\",\n",
        "        \"answer\": \"Anakin Skywalker\"\n",
        "    },\n",
        "    {\n",
        "        \"question\": \"Anakin Skywalker grew up to be who?\",\n",
        "        \"answer\": \"Darth Vader\"\n",
        "    },\n",
        "    {\n",
        "        \"question\": \"What species is Chewbacca?\",\n",
        "        \"answer\": \"Wookiee\"\n",
        "    }\n",
        "]\n",
        "\n",
        "\n",
        "Create a function that asks the questions to the user, and check his answers. Track the number of correct, incorrect answers. Create a list of wrong_answers\n",
        "\n",
        "Create a function that informs the user of his number of correct/incorrect answers.\n",
        "\n",
        "Bonus : display to the user the questions he answered wrong, his answer, and the correct answer.\n",
        "\n",
        "If he had more then 3 wrong answers, ask him to play again.\n"
      ],
      "metadata": {
        "id": "Bwi1xhIvMFxo"
      }
    },
    {
      "cell_type": "code",
      "source": [
        "# an array of dictionaries, containing questions and answers\n",
        "data = [\n",
        "    {\n",
        "        \"question\": \"What is Baby Yoda's real name?\",\n",
        "        \"answer\": \"Grogu\"\n",
        "    },\n",
        "    {\n",
        "        \"question\": \"Where did Obi-Wan take Luke after his birth?\",\n",
        "        \"answer\": \"Tatooine\"\n",
        "    },\n",
        "    {\n",
        "        \"question\": \"What year did the first Star Wars movie come out?\",\n",
        "        \"answer\": \"1977\"\n",
        "    },\n",
        "    {\n",
        "        \"question\": \"Who built C-3PO?\",\n",
        "        \"answer\": \"Anakin Skywalker\"\n",
        "    },\n",
        "    {\n",
        "        \"question\": \"Anakin Skywalker grew up to be who?\",\n",
        "        \"answer\": \"Darth Vader\"\n",
        "    },\n",
        "    {\n",
        "        \"question\": \"What species is Chewbacca?\",\n",
        "        \"answer\": \"Wookiee\"\n",
        "    }\n",
        "]\n",
        "\n",
        "# Function that asks the questions and tracks the correct/incorrect answers\n",
        "def ask_questions():\n",
        "    correct_answers = 0\n",
        "    incorrect_answers = 0\n",
        "    wrong_answers = []\n",
        "\n",
        "    for item in data:\n",
        "        question = item[\"question\"]\n",
        "        correct_answer = item[\"answer\"]\n",
        "\n",
        "        # Ask the user the question\n",
        "        user_answer = input(f\"{question} \")\n",
        "\n",
        "        # Check if the answer is correct\n",
        "        if user_answer.strip().lower() == correct_answer.lower():\n",
        "            correct_answers += 1\n",
        "        else:\n",
        "            incorrect_answers += 1\n",
        "            wrong_answers.append({\n",
        "                \"question\": question,\n",
        "                \"your_answer\": user_answer,\n",
        "                \"correct_answer\": correct_answer\n",
        "            })\n",
        "\n",
        "    return correct_answers, incorrect_answers, wrong_answers\n",
        "\n",
        "# Function that displays results\n",
        "def display_results(correct_answers, incorrect_answers, wrong_answers):\n",
        "    print(f\"\\nYou got {correct_answers} correct and {incorrect_answers} incorrect answers.\")\n",
        "\n",
        "    if incorrect_answers > 0:\n",
        "        print(\"\\nHere are the questions you got wrong:\")\n",
        "        for wrong_answer in wrong_answers:\n",
        "            print(f\"Question: {wrong_answer['question']}\")\n",
        "            print(f\"Your answer: {wrong_answer['your_answer']}\")\n",
        "            print(f\"Correct answer: {wrong_answer['correct_answer']}\")\n",
        "            print(\"-\" * 50)\n",
        "\n",
        "# Main function that runs the quiz\n",
        "def main():\n",
        "    correct_answers, incorrect_answers, wrong_answers = ask_questions()\n",
        "    display_results(correct_answers, incorrect_answers, wrong_answers)\n",
        "\n",
        "    if incorrect_answers > 3:\n",
        "        print(\"\\nToo many wrong answers! Would you like to play again?\")\n",
        "        retry = input(\"Type 'yes' to play again, or anything else to quit: \").lower()\n",
        "        if retry == \"yes\":\n",
        "            main()\n",
        "        else:\n",
        "            print(\"Thanks for playing!\")\n",
        "    else:\n",
        "        print(\"\\nThanks for playing! May the Force be with you.\")\n",
        "\n",
        "# Starts the quiz\n",
        "main()"
      ],
      "metadata": {
        "colab": {
          "base_uri": "https://localhost:8080/"
        },
        "id": "tQVbWH3PMxDl",
        "outputId": "6f4a33f7-9da1-47e5-e317-a18d89e46ca4"
      },
      "execution_count": 27,
      "outputs": [
        {
          "output_type": "stream",
          "name": "stdout",
          "text": [
            "What is Baby Yoda's real name? Baby\n",
            "Where did Obi-Wan take Luke after his birth? Jerusalem\n",
            "What year did the first Star Wars movie come out? 1998\n",
            "Who built C-3PO? Monty\n",
            "Anakin Skywalker grew up to be who? Teacher\n",
            "What species is Chewbacca? Wookie\n",
            "\n",
            "You got 0 correct and 6 incorrect answers.\n",
            "\n",
            "Here are the questions you got wrong:\n",
            "Question: What is Baby Yoda's real name?\n",
            "Your answer: Baby\n",
            "Correct answer: Grogu\n",
            "--------------------------------------------------\n",
            "Question: Where did Obi-Wan take Luke after his birth?\n",
            "Your answer: Jerusalem\n",
            "Correct answer: Tatooine\n",
            "--------------------------------------------------\n",
            "Question: What year did the first Star Wars movie come out?\n",
            "Your answer: 1998\n",
            "Correct answer: 1977\n",
            "--------------------------------------------------\n",
            "Question: Who built C-3PO?\n",
            "Your answer: Monty\n",
            "Correct answer: Anakin Skywalker\n",
            "--------------------------------------------------\n",
            "Question: Anakin Skywalker grew up to be who?\n",
            "Your answer: Teacher\n",
            "Correct answer: Darth Vader\n",
            "--------------------------------------------------\n",
            "Question: What species is Chewbacca?\n",
            "Your answer: Wookie\n",
            "Correct answer: Wookiee\n",
            "--------------------------------------------------\n",
            "\n",
            "Too many wrong answers! Would you like to play again?\n",
            "Type 'yes' to play again, or anything else to quit: q\n",
            "Thanks for playing!\n"
          ]
        }
      ]
    }
  ]
}