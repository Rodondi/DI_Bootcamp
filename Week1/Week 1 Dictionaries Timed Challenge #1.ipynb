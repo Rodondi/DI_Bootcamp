{
  "nbformat": 4,
  "nbformat_minor": 0,
  "metadata": {
    "colab": {
      "provenance": []
    },
    "kernelspec": {
      "name": "python3",
      "display_name": "Python 3"
    },
    "language_info": {
      "name": "python"
    }
  },
  "cells": [
    {
      "cell_type": "markdown",
      "source": [
        "Reverse the Sentence\n",
        "\n",
        "Write a program to reverse the sentence wordwise.\n",
        "\n",
        "Input:\n",
        "You have entered a wrong domain\n",
        "Output:\n",
        "domain wrong a entered have You\n",
        "\n",
        "Let’s start NOW !\n",
        "\n",
        "Here is the starter python code :\n",
        "\n",
        "REverseinp= raw_input()\n",
        "\n",
        "\n",
        "#write down your logic here\n",
        "\n",
        "\n",
        "\n",
        "#\n",
        "\n",
        "\n",
        "print(reversed)"
      ],
      "metadata": {
        "id": "2g-2WlbMo6ua"
      }
    },
    {
      "cell_type": "code",
      "execution_count": 1,
      "metadata": {
        "colab": {
          "base_uri": "https://localhost:8080/"
        },
        "id": "bz6xyOrGnrgK",
        "outputId": "dcd3b478-b65b-4710-bfe8-a3637765ab3b"
      },
      "outputs": [
        {
          "output_type": "stream",
          "name": "stdout",
          "text": [
            "You have entered a wrong domain\n",
            "domain wrong a entered have You\n"
          ]
        }
      ],
      "source": [
        "REverseinp = input()  # I opted for this Python 3 syntax over the Python 2 syntax in the starter code\n",
        "\n",
        "# Splits the sentence into words\n",
        "words = REverseinp.split()\n",
        "\n",
        "# Reverses the list of words\n",
        "reversed_words = words[::-1]\n",
        "\n",
        "# Joins the words back into a sentence\n",
        "reversed_sentence = ' '.join(reversed_words)\n",
        "\n",
        "# Prints the reversed sentence\n",
        "print(reversed_sentence)"
      ]
    }
  ]
}