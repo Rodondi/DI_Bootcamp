{
  "nbformat": 4,
  "nbformat_minor": 0,
  "metadata": {
    "colab": {
      "provenance": []
    },
    "kernelspec": {
      "name": "python3",
      "display_name": "Python 3"
    },
    "language_info": {
      "name": "python"
    }
  },
  "cells": [
    {
      "cell_type": "markdown",
      "source": [
        "Perfect number\n",
        "\n",
        "A perfect number is a positive integer that is equal to the sum of its divisors.\n",
        "However, the number itself is not included in the sum.\n",
        "\n",
        "Ask the user for a number and print whether or not it is a perfect number. If yes, print True else False.\n",
        "Hint: Google perfect numbers\n",
        "Example\n",
        "\n",
        "Input -- Enter the number:6\n",
        "Output -- True\n",
        "\n",
        "Input -- Enter the number:10\n",
        "Output --  False\n",
        "\n",
        "Let’s start NOW !\n",
        "\n",
        "Here is the starter python code\n",
        "\n",
        "x = int(input('Enter the Number:'))\n",
        "\n",
        "#write down your logic here"
      ],
      "metadata": {
        "id": "cDHXNp8asXKF"
      }
    },
    {
      "cell_type": "code",
      "execution_count": 1,
      "metadata": {
        "colab": {
          "base_uri": "https://localhost:8080/"
        },
        "id": "aK6npipnsUGC",
        "outputId": "f51270cb-6e0d-4899-cebc-e761b7c1205b"
      },
      "outputs": [
        {
          "output_type": "stream",
          "name": "stdout",
          "text": [
            "Enter the Number:2\n",
            "False\n"
          ]
        }
      ],
      "source": [
        "# Gets the input number\n",
        "x = int(input('Enter the Number:'))\n",
        "\n",
        "# Initializes sum of divisors to 0\n",
        "sum_of_divisors = 0\n",
        "\n",
        "# Iterates from 1 to the input number (exclusive)\n",
        "for i in range(1, x):\n",
        "    # Check if i is a divisor of the input number\n",
        "    if x % i == 0:\n",
        "        # Add i to the sum of divisors\n",
        "        sum_of_divisors += i\n",
        "\n",
        "# Checks if the sum of divisors is equal to the input number\n",
        "if sum_of_divisors == x:\n",
        "    print(True)\n",
        "else:\n",
        "    print(False)"
      ]
    }
  ]
}