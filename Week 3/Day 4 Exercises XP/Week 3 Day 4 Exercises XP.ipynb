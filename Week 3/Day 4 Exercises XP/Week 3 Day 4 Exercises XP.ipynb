{
 "cells": [
  {
   "cell_type": "markdown",
   "metadata": {
    "id": "05BkJ1m9rNjF"
   },
   "source": [
    "🌟 Exercise 1: Currencies\n",
    "\n",
    "Instructions\n",
    "\n",
    "class Currency:\n",
    "    def __init__(self, currency, amount):\n",
    "        self.currency = currency\n",
    "        self.amount = amount\n",
    "\n",
    "    #Your code starts HERE\n",
    "\n",
    "\n",
    "Using the code above, implement the relevant methods and dunder methods which will output the results below.\n",
    "Hint : When adding 2 currencies which don’t share the same label you should raise an error.\n",
    ">>> c1 = Currency('dollar', 5)\n",
    ">>> c2 = Currency('dollar', 10)\n",
    ">>> c3 = Currency('shekel', 1)\n",
    ">>> c4 = Currency('shekel', 10)\n",
    "\n",
    ">>> str(c1)\n",
    "'5 dollars'\n",
    "\n",
    ">>> int(c1)\n",
    "5\n",
    "\n",
    ">>> repr(c1)\n",
    "'5 dollars'\n",
    "\n",
    ">>> c1 + 5\n",
    "10\n",
    "\n",
    ">>> c1 + c2\n",
    "15\n",
    "\n",
    ">>> c1 \n",
    "5 dollars\n",
    "\n",
    ">>> c1 += 5\n",
    ">>> c1\n",
    "10 dollars\n",
    "\n",
    ">>> c1 += c2\n",
    ">>> c1\n",
    "20 dollars\n",
    "\n",
    ">>> c1 + c3\n",
    "TypeError: Cannot add between Currency type <dollar> and <shekel>"
   ]
  },
  {
   "cell_type": "code",
   "execution_count": 1,
   "metadata": {
    "colab": {
     "base_uri": "https://localhost:8080/"
    },
    "id": "QDGnXJAQsDQ5",
    "outputId": "30aa0bc6-361d-4c27-f52f-4afcf05b98e4"
   },
   "outputs": [
    {
     "name": "stdout",
     "output_type": "stream",
     "text": [
      "5 dollars\n",
      "5\n",
      "5 dollars\n",
      "10 dollars\n",
      "15 dollars\n",
      "5 dollars\n",
      "10 dollars\n",
      "20 dollars\n",
      "Cannot add between Currency type <dollar> and <shekel>\n"
     ]
    }
   ],
   "source": [
    "class Currency:\n",
    "    def __init__(self, currency, amount):\n",
    "        self.currency = currency\n",
    "        self.amount = amount\n",
    "\n",
    "    def __str__(self):\n",
    "        return f\"{self.amount} {self.currency}s\" if self.amount > 1 else f\"{self.amount} {self.currency}\"\n",
    "\n",
    "    def __int__(self):\n",
    "        return self.amount\n",
    "\n",
    "    def __repr__(self):\n",
    "        return str(self)\n",
    "\n",
    "    def __add__(self, other):\n",
    "        if isinstance(other, Currency):\n",
    "            if self.currency != other.currency:\n",
    "                raise TypeError(f\"Cannot add between Currency type <{self.currency}> and <{other.currency}>\")\n",
    "            return Currency(self.currency, self.amount + other.amount)\n",
    "        elif isinstance(other, int):\n",
    "            return Currency(self.currency, self.amount + other)\n",
    "        else:\n",
    "            return NotImplemented\n",
    "\n",
    "    def __iadd__(self, other):\n",
    "        if isinstance(other, Currency):\n",
    "            if self.currency != other.currency:\n",
    "                raise TypeError(f\"Cannot add between Currency type <{self.currency}> and <{other.currency}>\")\n",
    "            self.amount += other.amount\n",
    "        elif isinstance(other, int):\n",
    "            self.amount += other\n",
    "        else:\n",
    "            return NotImplemented\n",
    "        return self\n",
    "\n",
    "# Testing if the Code Works:\n",
    "c1 = Currency('dollar', 5)\n",
    "c2 = Currency('dollar', 10)\n",
    "c3 = Currency('shekel', 1)\n",
    "c4 = Currency('shekel', 10)\n",
    "\n",
    "print(str(c1))\n",
    "print(int(c1))\n",
    "print(repr(c1))\n",
    "print(c1 + 5)\n",
    "print(c1 + c2)\n",
    "print(c1)\n",
    "c1 += 5\n",
    "print(c1)\n",
    "c1 += c2\n",
    "print(c1)\n",
    "\n",
    "try:\n",
    "    print(c1 + c3)\n",
    "except TypeError as e:\n",
    "    print(e)"
   ]
  },
  {
   "cell_type": "markdown",
   "metadata": {
    "id": "iPYbgZhWsnY_"
   },
   "source": [
    "🌟 Exercise 3: String module\n",
    "\n",
    "Instructions\n",
    "\n",
    "Generate random String of length 5\n",
    "Note: String must be the combination of the UPPER case and lower case letters only. No numbers and a special symbol.\n",
    "\n",
    "Hint: use the string module"
   ]
  },
  {
   "cell_type": "code",
   "execution_count": 2,
   "metadata": {
    "colab": {
     "base_uri": "https://localhost:8080/"
    },
    "id": "G1sh1klgwP2I",
    "outputId": "16a80490-7fec-459e-efa9-cf01ee87c2bf"
   },
   "outputs": [
    {
     "name": "stdout",
     "output_type": "stream",
     "text": [
      "zAGhi\n"
     ]
    }
   ],
   "source": [
    "import random\n",
    "import string\n",
    "\n",
    "# Generate a random string of length 5\n",
    "random_string = ''.join(random.choice(string.ascii_letters) for _ in range(5))\n",
    "\n",
    "print(random_string)"
   ]
  },
  {
   "cell_type": "markdown",
   "metadata": {
    "id": "HstOFF6qweDy"
   },
   "source": [
    "🌟 Exercise 4 : Current Date\n",
    "\n",
    "Instructions\n",
    "\n",
    "Create a function that displays the current date.\n",
    "\n",
    "Hint : Use the datetime module."
   ]
  },
  {
   "cell_type": "code",
   "execution_count": 3,
   "metadata": {
    "colab": {
     "base_uri": "https://localhost:8080/"
    },
    "id": "Z8QWm1B1w3F8",
    "outputId": "11b123b2-05af-4ab5-ccd1-37cd2c62d6c0"
   },
   "outputs": [
    {
     "name": "stdout",
     "output_type": "stream",
     "text": [
      "2025-04-03\n"
     ]
    }
   ],
   "source": [
    "import datetime\n",
    "\n",
    "def display_current_date():\n",
    "    current_date = datetime.date.today()\n",
    "    print(current_date)\n",
    "\n",
    "display_current_date()"
   ]
  },
  {
   "cell_type": "markdown",
   "metadata": {
    "id": "U1UoJztEw5Rc"
   },
   "source": [
    "Exercise 5 : Amount of time left until January 1st\n",
    "\n",
    "Instructions\n",
    "\n",
    "Create a function that displays the amount of time left from now until January 1st.\n",
    "\n",
    "(Example: the 1st of January is in 10 days and 10:34:01hours)."
   ]
  },
  {
   "cell_type": "code",
   "execution_count": 4,
   "metadata": {
    "colab": {
     "base_uri": "https://localhost:8080/"
    },
    "id": "zasXtpIzw5jm",
    "outputId": "66aad7e7-c6d1-4815-f049-f7c8532c2f6c"
   },
   "outputs": [
    {
     "name": "stdout",
     "output_type": "stream",
     "text": [
      "There are 272 days, 21 hours, 33 minutes and 2 seconds until January 1st.\n"
     ]
    }
   ],
   "source": [
    "def days_until_january_1st():\n",
    "    now = datetime.datetime.now()\n",
    "    january_1st = datetime.datetime(now.year, 1, 1)\n",
    "    if now > january_1st:\n",
    "        january_1st = datetime.datetime(now.year + 1, 1, 1)\n",
    "    time_left = january_1st - now\n",
    "    days = time_left.days\n",
    "    hours, remainder = divmod(time_left.seconds, 3600)\n",
    "    minutes, seconds = divmod(remainder, 60)\n",
    "    print(f\"There are {days} days, {hours} hours, {minutes} minutes and {seconds} seconds until January 1st.\")\n",
    "\n",
    "days_until_january_1st()"
   ]
  },
  {
   "cell_type": "markdown",
   "metadata": {
    "id": "EZ9xOecLx0Zw"
   },
   "source": [
    "Exercise 6 : Birthday and minutes\n",
    "\n",
    "Instructions\n",
    "\n",
    "Create a function that accepts a birthdate as an argument (in the format of your choice), then displays a message stating how many minutes the user lived in his life."
   ]
  },
  {
   "cell_type": "code",
   "execution_count": 5,
   "metadata": {
    "colab": {
     "base_uri": "https://localhost:8080/"
    },
    "id": "iHsDwQi3x0hz",
    "outputId": "a907ffb4-5b57-4f00-ec1e-4810bf097545"
   },
   "outputs": [
    {
     "name": "stdout",
     "output_type": "stream",
     "text": [
      "You have lived for 18541586 minutes.\n"
     ]
    }
   ],
   "source": [
    "def calculate_minutes_lived(birthdate):\n",
    "    birthdate = datetime.datetime.strptime(birthdate, \"%Y-%m-%d\")\n",
    "    now = datetime.datetime.now()\n",
    "    time_diff = now - birthdate\n",
    "    minutes_lived = time_diff.total_seconds() / 60\n",
    "    print(f\"You have lived for {int(minutes_lived)} minutes.\")\n",
    "\n",
    "calculate_minutes_lived(\"1990-01-01\")"
   ]
  },
  {
   "cell_type": "markdown",
   "metadata": {
    "id": "0kkRbyD1yqL3"
   },
   "source": [
    "Exercise 7 : Faker Module\n",
    "\n",
    "Instructions\n",
    "\n",
    "Install the faker module, and take a look at the documentation and learn how to properly implement faker in your code.\n",
    "\n",
    "Create an empty list called users. Tip: It should be a list of dictionaries.\n",
    "\n",
    "Create a function that adds new dictionaries to the users list. Each user has the following keys: name, adress, langage_code. Use faker to populate them with fake data."
   ]
  },
  {
   "cell_type": "code",
   "execution_count": 7,
   "metadata": {
    "colab": {
     "base_uri": "https://localhost:8080/",
     "height": 106
    },
    "id": "yIB6ldpqyqcV",
    "outputId": "25ac0188-4aca-4dce-d541-ebf75a9fda36"
   },
   "outputs": [
    {
     "name": "stdout",
     "output_type": "stream",
     "text": [
      "{'name': 'Jose Lawrence', 'address': '924 Joanna Shoal Suite 097\\nTarastad, PW 99791', 'language_code': 'fr_FR'}\n",
      "{'name': 'Crystal Sanchez', 'address': '005 Wu Cliffs\\nPort Tony, OR 57305', 'language_code': 'es_ES'}\n",
      "{'name': 'Stephanie Nguyen', 'address': '226 Mitchell Parkways\\nSouth Katieville, AS 36357', 'language_code': 'en_US'}\n",
      "{'name': 'Curtis Ford', 'address': '4976 Emma Tunnel Apt. 353\\nChristopherbury, MS 29811', 'language_code': 'es_ES'}\n",
      "{'name': 'Denise Griffin', 'address': '01684 Walton Crossroad Apt. 680\\nSouth Jennifer, AR 28480', 'language_code': 'en_US'}\n",
      "{'name': 'Valerie Thomas', 'address': '6046 Ryan Via\\nJoycemouth, UT 23847', 'language_code': 'es_ES'}\n",
      "{'name': 'Caitlin Alvarez', 'address': '5270 Shawn Plains Apt. 266\\nMullinsview, HI 13687', 'language_code': 'es_ES'}\n",
      "{'name': 'Patrick Evans', 'address': '599 Daniel Coves\\nWest Joshuachester, AS 77735', 'language_code': 'en_US'}\n",
      "{'name': 'Walter Henderson', 'address': '408 Emily Ville\\nNorth Staceymouth, OH 62768', 'language_code': 'fr_FR'}\n",
      "{'name': 'Candice Stewart', 'address': '729 Michael Mews Suite 523\\nNorth Brittany, ID 85198', 'language_code': 'es_ES'}\n"
     ]
    }
   ],
   "source": [
    "import faker\n",
    "import random\n",
    "\n",
    "# Create a Faker instance\n",
    "fake = faker.Faker()\n",
    "\n",
    "# Create an empty list to store users\n",
    "users = []\n",
    "\n",
    "def add_user():\n",
    "    # Create a new user dictionary\n",
    "    user = {\n",
    "        \"name\": fake.name(),\n",
    "        \"address\": fake.address(),\n",
    "        \"language_code\": fake.random_element(elements=('en_US', 'fr_FR', 'es_ES'))\n",
    "    }\n",
    "    \n",
    "    # Add the user to the list\n",
    "    users.append(user)\n",
    "\n",
    "# Generate 10 users\n",
    "for _ in range(10):\n",
    "    add_user()\n",
    "\n",
    "# Print the users\n",
    "for user in users:\n",
    "    print(user)"
   ]
  }
 ],
 "metadata": {
  "colab": {
   "provenance": []
  },
  "kernelspec": {
   "display_name": "Python 3",
   "language": "python",
   "name": "python3"
  },
  "language_info": {
   "codemirror_mode": {
    "name": "ipython",
    "version": 3
   },
   "file_extension": ".py",
   "mimetype": "text/x-python",
   "name": "python",
   "nbconvert_exporter": "python",
   "pygments_lexer": "ipython3",
   "version": "3.8.5"
  }
 },
 "nbformat": 4,
 "nbformat_minor": 1
}
