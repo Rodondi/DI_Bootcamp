{
 "cells": [
  {
   "cell_type": "markdown",
   "metadata": {
    "id": "pSQ1f5v_3n1b"
   },
   "source": [
    "🌟 Exercise 3 : Dogs Domesticated\n",
    "\n",
    "Instructions\n",
    "\n",
    "Create a new python file and import your Dog class from the previous exercise.\n",
    "\n",
    "In the new python file, create a class named PetDog that inherits from Dog.\n",
    "\n",
    "Add an attribute called trained to the __init__ method, this attribute is a boolean and the value should be False by default.\n",
    "\n",
    "Add the following methods:\n",
    "\n",
    "train: prints the output of bark and switches the trained boolean to True\n",
    "\n",
    "play: takes a parameter which value is a few names of other Dog instances (use *args). The method should print the following string: “dog_names all play together”.\n",
    "\n",
    "do_a_trick: If the dog is trained the method should print one of the following sentences at random:\n",
    "“dog_name does a barrel roll”.\n",
    "“dog_name stands on his back legs”.\n",
    "“dog_name shakes your hand”.\n",
    "“dog_name plays dead”.\n"
   ]
  },
  {
   "cell_type": "code",
   "execution_count": 1,
   "metadata": {},
   "outputs": [
    {
     "name": "stdout",
     "output_type": "stream",
     "text": [
      "Bengal is just walking around\n",
      "Chartreux is just walking around\n",
      "Siamese is just walking around\n",
      "Dobby is barking\n",
      "Dobby's run speed is: 50.0\n",
      "Chuki is barking\n",
      "Chuki's run speed is: 100.0\n",
      "Kelev is barking\n",
      "Kelev's run speed is: 70.0\n",
      "Chuki won the fight\n",
      "Chuki won the fight\n",
      "Kelev won the fight\n",
      "Perro is barking\n",
      "Perro shakes your hand\n",
      "Chien is not trained yet.\n",
      "Perro, Chien, Hund all play together\n"
     ]
    }
   ],
   "source": [
    "import random\n",
    "from file1 import Dog\n",
    "\n",
    "class PetDog(Dog):\n",
    "    def __init__(self, name, age, weight):\n",
    "        super().__init__(name, age, weight)\n",
    "        self.trained = False\n",
    "\n",
    "    def train(self):\n",
    "        print(self.bark())\n",
    "        self.trained = True\n",
    "\n",
    "    def play(self, *other_dogs):\n",
    "        dog_names = [self.name] + [dog.name for dog in other_dogs]\n",
    "        print(f\"{', '.join(dog_names)} all play together\")\n",
    "\n",
    "    def do_a_trick(self):\n",
    "        if self.trained:\n",
    "            tricks = [\n",
    "                f\"{self.name} does a barrel roll\",\n",
    "                f\"{self.name} stands on his back legs\",\n",
    "                f\"{self.name} shakes your hand\",\n",
    "                f\"{self.name} plays dead\"\n",
    "            ]\n",
    "            print(random.choice(tricks))\n",
    "        else:\n",
    "            print(f\"{self.name} is not trained yet.\")\n",
    "\n",
    "# Example usage:\n",
    "pet_dog1 = PetDog(name=\"Perro\", age=2, weight=15)\n",
    "pet_dog2 = PetDog(name=\"Chien\", age=3, weight=20)\n",
    "pet_dog3 = PetDog(name=\"Hund\", age=4, weight=22)\n",
    "\n",
    "pet_dog1.train()\n",
    "pet_dog1.do_a_trick()\n",
    "pet_dog2.do_a_trick()\n",
    "pet_dog1.play(pet_dog2, pet_dog3)"
   ]
  },
  {
   "cell_type": "code",
   "execution_count": null,
   "metadata": {},
   "outputs": [],
   "source": []
  },
  {
   "cell_type": "code",
   "execution_count": null,
   "metadata": {},
   "outputs": [],
   "source": []
  },
  {
   "cell_type": "code",
   "execution_count": null,
   "metadata": {},
   "outputs": [],
   "source": []
  }
 ],
 "metadata": {
  "colab": {
   "provenance": []
  },
  "kernelspec": {
   "display_name": "Python 3",
   "language": "python",
   "name": "python3"
  },
  "language_info": {
   "codemirror_mode": {
    "name": "ipython",
    "version": 3
   },
   "file_extension": ".py",
   "mimetype": "text/x-python",
   "name": "python",
   "nbconvert_exporter": "python",
   "pygments_lexer": "ipython3",
   "version": "3.8.5"
  }
 },
 "nbformat": 4,
 "nbformat_minor": 1
}
