{
 "cells": [
  {
   "cell_type": "markdown",
   "metadata": {
    "id": "tkppDfVEF6QU"
   },
   "source": [
    "🌟 Exercise 1 – Random Sentence Generator\n",
    "\n",
    "Instructions\n",
    "\n",
    "Description: In this exercise we will create a random sentence generator. We will do this by asking the user how long the sentence should be and then printing the generated sentence.\n",
    "\n",
    "Hint : The generated sentences do not have to make sense.\n",
    "\n",
    "Download this word list\n",
    "\n",
    "Save it in your development directory.\n",
    "\n",
    "Create a function called get_words_from_file. This function should read the file’s content and return the words as a collection. What is the correct data type to store the words?\n",
    "\n",
    "Create another function called get_random_sentence which takes a single parameter called length. The length parameter will be used to determine how many words the sentence should have. The function should:\n",
    "\n",
    "use the words list to get your random words.\n",
    "\n",
    "the amount of words should be the value of the length parameter.\n",
    "\n",
    "Take the random words and create a sentence (using a python method), the sentence should be lower case.\n",
    "\n",
    "Create a function called main which will:\n",
    "\n",
    "Print a message explaining what the program does.\n",
    "\n",
    "Ask the user how long they want the sentence to be. Acceptable values are: an integer between 2 and 20. Validate your data and test your validation!\n",
    "If the user inputs incorrect data, print an error message and end the program.\n",
    "If the user inputs correct data, run your code.\n"
   ]
  },
  {
   "cell_type": "code",
   "execution_count": 1,
   "metadata": {
    "id": "M9Of6Cdbjxrq"
   },
   "outputs": [
    {
     "name": "stdout",
     "output_type": "stream",
     "text": [
      "This program generates a random sentence based on the length you specify.\n",
      "How long do you want the sentence to be? (Enter an integer between 2 and 20): 3\n",
      "Generated sentence:\n",
      "spyings olitory ecotour\n"
     ]
    }
   ],
   "source": [
    "import random\n",
    "\n",
    "def get_words_from_file(file_path=\"sowpods.txt\"):\n",
    "    \"\"\"Reads words from a file and returns them as a list.\"\"\"\n",
    "    try:\n",
    "        with open(file_path, 'r') as file:\n",
    "            words = [word.strip() for word in file.readlines()]\n",
    "        return words\n",
    "    except FileNotFoundError:\n",
    "        print(f\"Error: The file '{file_path}' was not found.\")\n",
    "        return []\n",
    "\n",
    "def get_random_sentence(length, words):\n",
    "    \"\"\"Generates a random sentence of the specified length using the given words.\"\"\"\n",
    "    if not words:\n",
    "        return \"Error: Word list is empty.\"\n",
    "    random_words = random.choices(words, k=length)\n",
    "    sentence = \" \".join(random_words).lower()\n",
    "    return sentence\n",
    "\n",
    "def main():\n",
    "    \"\"\"Main function to run the random sentence generator.\"\"\"\n",
    "    print(\"This program generates a random sentence based on the length you specify.\")\n",
    "\n",
    "    while True:\n",
    "        try:\n",
    "            sentence_length_str = input(\"How long do you want the sentence to be? (Enter an integer between 2 and 20): \")\n",
    "            sentence_length = int(sentence_length_str)\n",
    "            if 2 <= sentence_length <= 20:\n",
    "                break\n",
    "            else:\n",
    "                print(\"Error: Please enter an integer between 2 and 20.\")\n",
    "        except ValueError:\n",
    "            print(\"Error: Invalid input. Please enter an integer.\")\n",
    "\n",
    "    words = get_words_from_file()\n",
    "    if words:\n",
    "        random_sentence = get_random_sentence(sentence_length, words)\n",
    "        print(\"Generated sentence:\")\n",
    "        print(random_sentence)\n",
    "    else:\n",
    "        print(\"Program terminated due to an issue with the word list.\")\n",
    "\n",
    "if __name__ == \"__main__\":\n",
    "    main()"
   ]
  },
  {
   "cell_type": "markdown",
   "metadata": {
    "id": "99Sl2H2UkAgp"
   },
   "source": [
    "🌟 Exercise 2: Working with JSON\n",
    "\n",
    "Instructions\n",
    "\n",
    "import json\n",
    "sampleJson = \"\"\"{\n",
    "   \"company\":{\n",
    "      \"employee\":{\n",
    "         \"name\":\"emma\",\n",
    "         \"payable\":{\n",
    "            \"salary\":7000,\n",
    "            \"bonus\":800\n",
    "         }\n",
    "      }\n",
    "   }\n",
    "}\"\"\"\n",
    "\n",
    "\n",
    "Access the nested “salary” key from the JSON-string above.\n",
    "\n",
    "Add a key called “birth_date” to the JSON-string at the same level as the “name” key.\n",
    "\n",
    "Save the dictionary as JSON to a file."
   ]
  },
  {
   "cell_type": "code",
   "execution_count": 2,
   "metadata": {
    "colab": {
     "base_uri": "https://localhost:8080/"
    },
    "id": "QfAW2UdjlmuZ",
    "outputId": "7386ea5d-aa86-460e-81ac-0391c81abc53"
   },
   "outputs": [
    {
     "name": "stdout",
     "output_type": "stream",
     "text": [
      "7000\n",
      "{'company': {'employee': {'name': 'emma', 'payable': {'salary': 7000, 'bonus': 800}, 'birth_date': '1990-01-01'}}}\n"
     ]
    }
   ],
   "source": [
    "import json\n",
    "\n",
    "sampleJson = \"\"\"{\n",
    "   \"company\":{\n",
    "      \"employee\":{\n",
    "         \"name\":\"emma\",\n",
    "         \"payable\":{\n",
    "            \"salary\":7000,\n",
    "            \"bonus\":800\n",
    "         }\n",
    "      }\n",
    "   }\n",
    "}\"\"\"\n",
    "\n",
    "# Access the nested “salary” key from the JSON-string above\n",
    "json_dict = json.loads(sampleJson)\n",
    "salary = json_dict[\"company\"][\"employee\"][\"payable\"][\"salary\"]\n",
    "print(salary)\n",
    "\n",
    "# Add a key called “birth_date” to the JSON-string at the same level as the “name” key\n",
    "json_dict[\"company\"][\"employee\"][\"birth_date\"] = \"1990-01-01\"\n",
    "print(json_dict)\n",
    "\n",
    "# Save the dictionary as JSON to a file\n",
    "with open(\"output.json\", \"w\") as file:\n",
    "    json.dump(json_dict, file, indent=4)"
   ]
  }
 ],
 "metadata": {
  "colab": {
   "provenance": []
  },
  "kernelspec": {
   "display_name": "Python 3",
   "language": "python",
   "name": "python3"
  },
  "language_info": {
   "codemirror_mode": {
    "name": "ipython",
    "version": 3
   },
   "file_extension": ".py",
   "mimetype": "text/x-python",
   "name": "python",
   "nbconvert_exporter": "python",
   "pygments_lexer": "ipython3",
   "version": "3.8.5"
  }
 },
 "nbformat": 4,
 "nbformat_minor": 1
}
