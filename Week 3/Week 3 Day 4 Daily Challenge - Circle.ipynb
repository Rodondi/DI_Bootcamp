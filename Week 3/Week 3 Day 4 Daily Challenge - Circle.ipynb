{
 "cells": [
  {
   "cell_type": "markdown",
   "metadata": {
    "id": "XCHqMLWA5JOo"
   },
   "source": [
    "Instructions :\n",
    "\n",
    "The goal is to create a class that represents a simple circle.\n",
    "\n",
    "A Circle can be defined by either specifying the radius or the diameter.\n",
    "\n",
    "The user can query the circle for either its radius or diameter.\n",
    "\n",
    "Other abilities of a Circle instance:\n",
    "\n",
    "Compute the circle’s area\n",
    "\n",
    "Print the attributes of the circle - use a dunder method\n",
    "\n",
    "Be able to add two circles together, and return a new circle with the new radius - use a dunder method\n",
    "\n",
    "Be able to compare two circles to see which is bigger, and return a Boolean - use a dunder method\n",
    "\n",
    "Be able to compare two circles and see if there are equal, and return a Boolean- use a dunder method\n",
    "\n",
    "Be able to put them in a list and sort them\n",
    "\n",
    "Bonus (not mandatory) : Install the Turtle module, and draw the sorted circles"
   ]
  },
  {
   "cell_type": "code",
   "execution_count": 3,
   "metadata": {
    "colab": {
     "base_uri": "https://localhost:8080/",
     "height": 426
    },
    "id": "X4f-wbRj5vGD",
    "outputId": "178d75d7-6488-4f57-c127-586e152c3289"
   },
   "outputs": [
    {
     "name": "stdout",
     "output_type": "stream",
     "text": [
      "Sorted circles:\n",
      "Circle(radius=3, diameter=6)\n",
      "Circle(radius=5, diameter=10)\n",
      "Circle(radius=5.0, diameter=10.0)\n"
     ]
    }
   ],
   "source": [
    "import math\n",
    "\n",
    "class Circle:\n",
    "    def __init__(self, radius=None, diameter=None):\n",
    "        if radius is not None and diameter is not None:\n",
    "            raise ValueError(\"Cannot specify both radius and diameter\")\n",
    "        if radius is None and diameter is None:\n",
    "            raise ValueError(\"Must specify either radius or diameter\")\n",
    "        if radius is not None:\n",
    "            self.radius = radius\n",
    "        else:\n",
    "            self.radius = diameter / 2\n",
    "\n",
    "    @property\n",
    "    def diameter(self):\n",
    "        return 2 * self.radius\n",
    "\n",
    "    @property\n",
    "    def area(self):\n",
    "        return math.pi * self.radius ** 2\n",
    "\n",
    "    def __str__(self):\n",
    "        return f\"Circle(radius={self.radius}, diameter={self.diameter})\"\n",
    "\n",
    "    def __add__(self, other):\n",
    "        if not isinstance(other, Circle):\n",
    "            raise TypeError(\"Cannot add non-circle object\")\n",
    "        return Circle(radius=self.radius + other.radius)\n",
    "\n",
    "    def __eq__(self, other):\n",
    "        if not isinstance(other, Circle):\n",
    "            return False\n",
    "        return self.radius == other.radius\n",
    "\n",
    "    def __lt__(self, other):\n",
    "        if not isinstance(other, Circle):\n",
    "            raise TypeError(\"Cannot compare non-circle object\")\n",
    "        return self.radius < other.radius\n",
    "\n",
    "    def __gt__(self, other):\n",
    "        if not isinstance(other, Circle):\n",
    "            raise TypeError(\"Cannot compare non-circle object\")\n",
    "        return self.radius > other.radius\n",
    "\n",
    "    @staticmethod\n",
    "    def sort_circles(circles):\n",
    "        return sorted(circles, key=lambda x: x.radius)\n",
    "\n",
    "# Testing the Code\n",
    "circles = [Circle(radius=5), Circle(diameter=10), Circle(radius=3)]\n",
    "sorted_circles = Circle.sort_circles(circles)\n",
    "print(\"Sorted circles:\")\n",
    "for circle in sorted_circles:\n",
    "    print(circle)"
   ]
  }
 ],
 "metadata": {
  "colab": {
   "provenance": []
  },
  "kernelspec": {
   "display_name": "Python 3",
   "language": "python",
   "name": "python3"
  },
  "language_info": {
   "codemirror_mode": {
    "name": "ipython",
    "version": 3
   },
   "file_extension": ".py",
   "mimetype": "text/x-python",
   "name": "python",
   "nbconvert_exporter": "python",
   "pygments_lexer": "ipython3",
   "version": "3.8.5"
  }
 },
 "nbformat": 4,
 "nbformat_minor": 1
}
