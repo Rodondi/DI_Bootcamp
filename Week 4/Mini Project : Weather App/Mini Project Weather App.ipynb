{
  "nbformat": 4,
  "nbformat_minor": 0,
  "metadata": {
    "colab": {
      "provenance": []
    },
    "kernelspec": {
      "name": "python3",
      "display_name": "Python 3"
    },
    "language_info": {
      "name": "python"
    }
  },
  "cells": [
    {
      "cell_type": "markdown",
      "source": [
        "The current weather data can be retrieved from OpenWeatherMap using the Observation module in PyOWM (Python OpenWeatherMap).\n",
        "Use this documentation for this Mini Project.\n",
        "\n",
        "1. Get the current weather in Tel Aviv.\n",
        "2. Get current wind info of Tel Aviv.\n",
        "3. Get today’s sunrise and sunset times of Tel Aviv.\n",
        "4. Display all these information in a user friendly way.\n",
        "\n",
        "5. Recreate these steps, but this time, ask the user for a location (display the information in a user friendly way).\n",
        "Instead of working with the name of the city, retrieve the id of the city.\n",
        "Check out the documentation section : “**Identifying cities and places via city IDs**”.\n",
        "\n",
        "6. Retrieve weather forecasts : The OpenWeatherMap free tier gives you access to 5 day forecasts. The forecasts contain the weather data in three-hour intervals.\n",
        "- The methods for retrieving the forecast are:\n",
        " - forecast_at_place('Los Angeles, US', '3h')\n",
        " - forecast_at_id(5391959, '3h')\n",
        " - forecast_at_coords(lat=37.774929, lon=-122.419418, interval='3h')\n",
        "Forecasts are useful if you want to know what the weather conditions will be throughout the day/week.\n",
        "\n",
        "7. Use this API to retrieve the Air Pollution in a specific city.\n",
        "\n",
        "**Mini project : XP Ninja**\n",
        "**BONUS:** Your goal is to produce a weather GUI that shows the three-day humidity forecast for a city of your choice.\n",
        "\n",
        "If you’ve never built a GUI with Python, don’t worry! We’ll be going through step by step how to build it. We will be using Matplotlib to\n",
        "plot the weather data. Matplotlib uses Tkinter behind the scenes to display the interactive GUI.\n",
        "\n",
        "You will have to use :\n",
        "- the matplotlib module for the bar chart\n",
        "- the pytz and datetime module for the date\n",
        "- the pyowm module for the weather\n",
        "\n",
        "\n",
        "**Instructions:**\n",
        "\n",
        "1. Start by updating the values for the ylabel and title by creating a function called init_plot().\n",
        "2. Create a function called plot_temperatures() to determine the details of the bar chart.\n",
        "3. Create a function called write_humidity_on_bar_chart() to display the % humidity in the bar chart.\n",
        "4. Style the bar chart"
      ],
      "metadata": {
        "id": "o8hmdzE9Bz0R"
      }
    },
    {
      "cell_type": "code",
      "execution_count": 1,
      "metadata": {
        "colab": {
          "base_uri": "https://localhost:8080/"
        },
        "id": "dBnzARhzBLBk",
        "outputId": "20997b45-c193-47e7-c77e-d3d56cbf27f1"
      },
      "outputs": [
        {
          "output_type": "stream",
          "name": "stdout",
          "text": [
            "Collecting pyowm\n",
            "  Downloading pyowm-3.3.0-py3-none-any.whl.metadata (6.8 kB)\n",
            "Requirement already satisfied: matplotlib in /usr/local/lib/python3.11/dist-packages (3.10.0)\n",
            "Requirement already satisfied: pytz in /usr/local/lib/python3.11/dist-packages (2025.2)\n",
            "Requirement already satisfied: requests<3,>=2.20.0 in /usr/local/lib/python3.11/dist-packages (from pyowm) (2.32.3)\n",
            "Collecting geojson<3,>=2.3.0 (from pyowm)\n",
            "  Downloading geojson-2.5.0-py2.py3-none-any.whl.metadata (15 kB)\n",
            "Requirement already satisfied: PySocks<2,>=1.7.1 in /usr/local/lib/python3.11/dist-packages (from pyowm) (1.7.1)\n",
            "Requirement already satisfied: contourpy>=1.0.1 in /usr/local/lib/python3.11/dist-packages (from matplotlib) (1.3.2)\n",
            "Requirement already satisfied: cycler>=0.10 in /usr/local/lib/python3.11/dist-packages (from matplotlib) (0.12.1)\n",
            "Requirement already satisfied: fonttools>=4.22.0 in /usr/local/lib/python3.11/dist-packages (from matplotlib) (4.58.4)\n",
            "Requirement already satisfied: kiwisolver>=1.3.1 in /usr/local/lib/python3.11/dist-packages (from matplotlib) (1.4.8)\n",
            "Requirement already satisfied: numpy>=1.23 in /usr/local/lib/python3.11/dist-packages (from matplotlib) (2.0.2)\n",
            "Requirement already satisfied: packaging>=20.0 in /usr/local/lib/python3.11/dist-packages (from matplotlib) (24.2)\n",
            "Requirement already satisfied: pillow>=8 in /usr/local/lib/python3.11/dist-packages (from matplotlib) (11.2.1)\n",
            "Requirement already satisfied: pyparsing>=2.3.1 in /usr/local/lib/python3.11/dist-packages (from matplotlib) (3.2.3)\n",
            "Requirement already satisfied: python-dateutil>=2.7 in /usr/local/lib/python3.11/dist-packages (from matplotlib) (2.9.0.post0)\n",
            "Requirement already satisfied: six>=1.5 in /usr/local/lib/python3.11/dist-packages (from python-dateutil>=2.7->matplotlib) (1.17.0)\n",
            "Requirement already satisfied: charset-normalizer<4,>=2 in /usr/local/lib/python3.11/dist-packages (from requests<3,>=2.20.0->pyowm) (3.4.2)\n",
            "Requirement already satisfied: idna<4,>=2.5 in /usr/local/lib/python3.11/dist-packages (from requests<3,>=2.20.0->pyowm) (3.10)\n",
            "Requirement already satisfied: urllib3<3,>=1.21.1 in /usr/local/lib/python3.11/dist-packages (from requests<3,>=2.20.0->pyowm) (2.4.0)\n",
            "Requirement already satisfied: certifi>=2017.4.17 in /usr/local/lib/python3.11/dist-packages (from requests<3,>=2.20.0->pyowm) (2025.6.15)\n",
            "Downloading pyowm-3.3.0-py3-none-any.whl (4.5 MB)\n",
            "\u001b[2K   \u001b[90m━━━━━━━━━━━━━━━━━━━━━━━━━━━━━━━━━━━━━━━━\u001b[0m \u001b[32m4.5/4.5 MB\u001b[0m \u001b[31m26.5 MB/s\u001b[0m eta \u001b[36m0:00:00\u001b[0m\n",
            "\u001b[?25hDownloading geojson-2.5.0-py2.py3-none-any.whl (14 kB)\n",
            "Installing collected packages: geojson, pyowm\n",
            "Successfully installed geojson-2.5.0 pyowm-3.3.0\n"
          ]
        }
      ],
      "source": [
        "# Installing Required Packages\n",
        "pip install pyowm matplotlib pytz"
      ]
    },
    {
      "cell_type": "code",
      "source": [
        "from pyowm.owm import OWM\n",
        "from pyowm.utils.config import get_default_config\n",
        "\n",
        "API_KEY = 'a9be9036285887a8815157bf07ba1d90'\n",
        "\n",
        "config_dict = get_default_config()\n",
        "config_dict['language'] = 'en'\n",
        "\n",
        "owm = OWM(API_KEY, config_dict)\n",
        "mgr = owm.weather_manager()"
      ],
      "metadata": {
        "id": "uu88y6BJDGzM"
      },
      "execution_count": 3,
      "outputs": []
    },
    {
      "cell_type": "code",
      "source": [
        "# Get Weather and Forecast Info\n",
        "def get_weather_info(city_name):\n",
        "    observation = mgr.weather_at_place(city_name)\n",
        "    weather = observation.weather\n",
        "    wind = weather.wind()\n",
        "    sunrise = weather.sunrise_time(timeformat='iso')\n",
        "    sunset = weather.sunset_time(timeformat='iso')\n",
        "    status = weather.detailed_status\n",
        "    temp = weather.temperature('celsius')[\"temp\"]\n",
        "\n",
        "    return {\n",
        "        \"status\": status,\n",
        "        \"temperature\": temp,\n",
        "        \"wind\": wind,\n",
        "        \"sunrise\": sunrise,\n",
        "        \"sunset\": sunset\n",
        "    }\n",
        "\n",
        "def get_humidity_forecast(city_name):\n",
        "  forecast = mgr.forecast_at_place(city_name, '3h')\n",
        "  weather_list = forecast.forecast.weathers\n",
        "\n",
        "  # Keep only next 3 days of humidity\n",
        "  from datetime import datetime, timedelta\n",
        "  now = datetime.now()\n",
        "  three_days_later = now + timedelta(days=3)\n",
        "\n",
        "  humidity_data = {}\n",
        "  for w in weather_list:\n",
        "    if now <= w.reference_time('date') <= three_days_later:\n",
        "      date = w.reference_time('date').date()\n",
        "      if date not in humidity_data:\n",
        "        humidity_data[date] = []\n",
        "      humidity_data[date].append(w.humidity)\n",
        "\n",
        "    # Average Humidity per Day\n",
        "    average_humidity = {date: round(sum(values)/len(values)) for date, values in humidity_data.items()}\n",
        "    return average_humidity"
      ],
      "metadata": {
        "id": "rTpuXlSwFTis"
      },
      "execution_count": 10,
      "outputs": []
    },
    {
      "cell_type": "code",
      "source": [
        "# Creating and Styling the Bar Chart\n",
        "import matplotlib.pyplot as plt\n",
        "import matplotlib.ticker as ticker\n",
        "\n",
        "def init_plot():\n",
        "  plt.ylabel (\"Humidity (%)\")\n",
        "  plt.title (\"3-Day Humidity Forecast\")\n",
        "\n",
        "def plot_humidity_chart (humidity_data):\n",
        "  dates = list(humidity_data.keys())\n",
        "  humidities = list(humidity_data.values())\n",
        "\n",
        "  bars = plt.bar(dates, humidities, color='skyblue', edgecolor='black')\n",
        "  write_humidity_on_bar_chart(bars, humidities)\n",
        "\n",
        "  plt.ylim(0, 100)\n",
        "  plt.gca().yaxis.set_major_locator(ticker.MultipleLocator(10))\n",
        "  plt.tight_layout()\n",
        "  plt.show()\n",
        "\n",
        "def write_humidity_on_bar_chart(bars, humidities):\n",
        "  for bar, humidity in zip(bars, humidities):\n",
        "    plt.text(bar.get_x() + bar.get_width()/2, bar.get_height() + 2,\n",
        "             f'{humidity}%', ha='center', fontsize=10)"
      ],
      "metadata": {
        "id": "ZBpwUuFsLDZs"
      },
      "execution_count": 11,
      "outputs": []
    },
    {
      "cell_type": "code",
      "source": [
        "city = input(\"Enter a city: \")\n",
        "weather_info = get_weather_info(city)\n",
        "humidity_data = get_humidity_forecast(city)\n",
        "\n",
        "print(f\"\\nWeather in {city.title()}\")\n",
        "print(f\"Status: {weather_info['status'].capitalize()}\")\n",
        "print(f\"Temperature: {weather_info['temperature']}°C\")\n",
        "print(f\"Wind: {weather_info['wind']}\")\n",
        "print(f\"Sunrise: {weather_info['sunrise']}\")\n",
        "print(f\"Sunset: {weather_info['sunset']}\")\n",
        "\n",
        "init_plot()\n",
        "plot_humidity_chart(humidity_data)"
      ],
      "metadata": {
        "colab": {
          "base_uri": "https://localhost:8080/",
          "height": 626
        },
        "id": "htM4gEUCR5bA",
        "outputId": "35c24121-dcda-4b0f-a568-1b410d86b4a8"
      },
      "execution_count": 13,
      "outputs": [
        {
          "output_type": "stream",
          "name": "stdout",
          "text": [
            "Enter a city: Nairobi\n",
            "\n",
            "Weather in Nairobi\n",
            "Status: Overcast clouds\n",
            "Temperature: 16.78°C\n",
            "Wind: {'speed': 2.37, 'deg': 130, 'gust': 3.75}\n",
            "Sunrise: 2025-06-28 03:34:28+00:00\n",
            "Sunset: 2025-06-28 15:37:17+00:00\n"
          ]
        },
        {
          "output_type": "display_data",
          "data": {
            "text/plain": [
              "<Figure size 640x480 with 1 Axes>"
            ],
            "image/png": "[encoded data removed]"
          },
          "metadata": {}
        }
      ]
    },
    {
      "cell_type": "code",
      "source": [
        "# Get city ID\n",
        "from pyowm.commons.cityidregistry import CityIDRegistry\n",
        "registry = owm.city_id_registry()\n",
        "ids = registry.ids_for('Tel Aviv', country='IL')\n",
        "print(ids)\n",
        "\n",
        "forecast = mgr.forecast_at_id(ids[0][0], '3h')"
      ],
      "metadata": {
        "colab": {
          "base_uri": "https://localhost:8080/"
        },
        "id": "aANLuVzySsCM",
        "outputId": "06ecaa12-60b8-4aad-ee3b-44db6978cd89"
      },
      "execution_count": 16,
      "outputs": [
        {
          "output_type": "stream",
          "name": "stdout",
          "text": [
            "[(293396, 'Tel Aviv District', 'IL', None, 32.083328, 34.799999), (293397, 'Tel Aviv', 'IL', None, 32.080879, 34.780571)]\n"
          ]
        }
      ]
    }
  ]
}