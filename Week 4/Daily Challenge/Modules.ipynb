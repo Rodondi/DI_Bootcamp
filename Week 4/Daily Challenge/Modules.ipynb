{
  "nbformat": 4,
  "nbformat_minor": 0,
  "metadata": {
    "colab": {
      "provenance": []
    },
    "kernelspec": {
      "name": "python3",
      "display_name": "Python 3"
    },
    "language_info": {
      "name": "python"
    }
  },
  "cells": [
    {
      "cell_type": "markdown",
      "source": [
        "**Instructions :**\n",
        "Using the **requests** and **time **modules, create a function which returns the amount of time it takes a webpage to load (how long it takes for a complete response to a request).\n",
        "Test your code with multiple sites such as google, ynet, imdb, etc."
      ],
      "metadata": {
        "id": "OQMco6kkqzq-"
      }
    },
    {
      "cell_type": "code",
      "execution_count": 1,
      "metadata": {
        "colab": {
          "base_uri": "https://localhost:8080/"
        },
        "id": "WopnOaR9qhK9",
        "outputId": "ff9a3930-1f95-4d89-9f15-920472ccbb65"
      },
      "outputs": [
        {
          "output_type": "stream",
          "name": "stdout",
          "text": [
            "Page 'https://www.google.com' loaded in 0.076 seconds.\n",
            "Page 'https://www.ynet.co.il' loaded in 0.124 seconds.\n",
            "Page 'https://www.imdb.com' returned status code 403 in 0.167 seconds.\n",
            "Page 'https://www.wikipedia.org' loaded in 0.149 seconds.\n",
            "Page 'https://www.github.com' loaded in 0.115 seconds.\n"
          ]
        }
      ],
      "source": [
        "import requests\n",
        "import time\n",
        "\n",
        "def get_page_load_time(url):\n",
        "    try:\n",
        "        start_time = time.time()\n",
        "        response = requests.get(url)\n",
        "        end_time = time.time()\n",
        "        load_time = end_time - start_time\n",
        "\n",
        "        if response.status_code == 200:\n",
        "            print(f\"Page '{url}' loaded in {load_time:.3f} seconds.\")\n",
        "        else:\n",
        "            print(f\"Page '{url}' returned status code {response.status_code} in {load_time:.3f} seconds.\")\n",
        "\n",
        "        return load_time\n",
        "    except requests.exceptions.RequestException as e:\n",
        "        print(f\"Error loading page '{url}': {e}\")\n",
        "        return None\n",
        "\n",
        "# Test with multiple sites\n",
        "sites = [\n",
        "    \"https://www.google.com\",\n",
        "    \"https://www.ynet.co.il\",\n",
        "    \"https://www.imdb.com\",\n",
        "    \"https://www.wikipedia.org\",\n",
        "    \"https://www.github.com\"\n",
        "]\n",
        "\n",
        "for site in sites:\n",
        "    get_page_load_time(site)\n"
      ]
    }
  ]
}