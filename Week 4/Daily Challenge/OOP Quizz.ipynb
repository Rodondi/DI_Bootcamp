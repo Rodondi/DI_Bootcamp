{
  "nbformat": 4,
  "nbformat_minor": 0,
  "metadata": {
    "colab": {
      "provenance": []
    },
    "kernelspec": {
      "name": "python3",
      "display_name": "Python 3"
    },
    "language_info": {
      "name": "python"
    }
  },
  "cells": [
    {
      "cell_type": "markdown",
      "source": [
        "Part 1 : Quizz :\n",
        "\n",
        "Answer the following questions\n",
        "\n",
        "What is a class?\n",
        "1. What is a class?\n",
        "A class is a template for creating objects. It defines the properties and behaviors of an object. A class is essentially a blueprint or a design pattern for creating objects.\n",
        "\n",
        "2. What is an instance?\n",
        "An instance is a specific object created from a class. It has its own set of attributes (data) and methods (functions). Each instance of a class has its own unique set of values for its attributes.\n",
        "\n",
        "3. What is encapsulation?\n",
        "Encapsulation is the concept of bundling data and methods that operate on that data within a single unit, such as a class. It helps to hide the internal details of an object from the outside world and provides a way to interact with the object through public methods.\n",
        "\n",
        "4. What is abstraction?\n",
        "Abstraction is the concept of showing only the necessary information to the outside world while hiding the internal details. It helps to focus on the essential features of an object without worrying about the implementation details.\n",
        "\n",
        "5. What is inheritance?\n",
        "Inheritance is the mechanism by which one class can inherit the properties and behavior of another class. The inheriting class is called the subclass or derived class, and the class being inherited from is called the superclass or base class.\n",
        "\n",
        "6. What is multiple inheritance?\n",
        "Multiple inheritance is a feature of some programming languages that allows a class to inherit properties and behavior from more than one superclass. This can lead to the \"diamond problem\" where a class inherits conflicting methods from different superclasses.\n",
        "\n",
        "7. What is polymorphism?\n",
        "Polymorphism is the ability of an object to take on multiple forms. This can be achieved through method overriding or method overloading. Polymorphism allows objects of different classes to be treated as objects of a common superclass.\n",
        "\n",
        "8. What is method resolution order or MRO?\n",
        "MRO is the order in which Python searches for methods in a class and its superclasses when there are multiple inheritance conflicts. The MRO is used to resolve the \"diamond problem\" by determining which method to call when a class has multiple superclasses with conflicting methods."
      ],
      "metadata": {
        "id": "2H6VFOFK82QO"
      }
    },
    {
      "cell_type": "markdown",
      "source": [
        "Part 2: Create a deck of cards class.\n",
        "\n",
        "The Deck of cards class should NOT inherit from a Card class.\n",
        "\n",
        "The requirements are as follows:\n",
        "\n",
        "The Card class should have a suit (Hearts, Diamonds, Clubs, Spades) and a value (A,2,3,4,5,6,7,8,9,10,J,Q,K)\n",
        "\n",
        "The Deck class :\n",
        "\n",
        "should have a shuffle method which makes sure the deck of cards has all 52 cards and then rearranges them randomly.\n",
        "\n",
        "should have a method called deal which deals a single card from the deck. After a card is dealt, it should be removed from the deck."
      ],
      "metadata": {
        "id": "y4Jxtghn9E7S"
      }
    },
    {
      "cell_type": "code",
      "source": [
        "import random\n",
        "\n",
        "class Card:\n",
        "    def __init__(self, suit, value):\n",
        "        self.suit = suit\n",
        "        self.value = value\n",
        "\n",
        "    def __repr__(self):\n",
        "        return f\"{self.value} of {self.suit}\"\n",
        "\n",
        "class Deck:\n",
        "    def __init__(self):\n",
        "        self.cards = []\n",
        "        self.suits = ['Hearts', 'Diamonds', 'Clubs', 'Spades']\n",
        "        self.values = ['A', '2', '3', '4', '5', '6', '7', '8', '9', '10', 'J', 'Q', 'K']\n",
        "\n",
        "        for suit in self.suits:\n",
        "            for value in self.values:\n",
        "                self.cards.append(Card(suit, value))\n",
        "\n",
        "    def shuffle(self):\n",
        "        random.shuffle(self.cards)\n",
        "\n",
        "    def deal(self):\n",
        "        if len(self.cards) == 0:\n",
        "            return None\n",
        "        return self.cards.pop()\n",
        "\n",
        "# Testing the Code:\n",
        "deck = Deck()\n",
        "print(\"Initial deck size:\", len(deck.cards))\n",
        "deck.shuffle()\n",
        "print(\"Shuffled deck size:\", len(deck.cards))\n",
        "card = deck.deal()\n",
        "print(\"Dealt card:\", card)\n",
        "print(\"Remaining deck size:\", len(deck.cards))"
      ],
      "metadata": {
        "colab": {
          "base_uri": "https://localhost:8080/"
        },
        "id": "cWoppL379Fa9",
        "outputId": "c0586ca5-15b9-4045-fe2b-d0edf870b32c"
      },
      "execution_count": 6,
      "outputs": [
        {
          "output_type": "stream",
          "name": "stdout",
          "text": [
            "Initial deck size: 52\n",
            "Shuffled deck size: 52\n",
            "Dealt card: 2 of Hearts\n",
            "Remaining deck size: 51\n"
          ]
        }
      ]
    }
  ]
}